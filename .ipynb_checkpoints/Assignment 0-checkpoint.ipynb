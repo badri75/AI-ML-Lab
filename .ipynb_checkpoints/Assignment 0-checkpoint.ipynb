{
 "cells": [
  {
   "cell_type": "code",
   "execution_count": 2,
   "id": "92cce9f4",
   "metadata": {},
   "outputs": [],
   "source": [
    "from numpy import *"
   ]
  },
  {
   "cell_type": "code",
   "execution_count": 16,
   "id": "7a814742",
   "metadata": {
    "scrolled": true
   },
   "outputs": [
    {
     "name": "stdout",
     "output_type": "stream",
     "text": [
      "[[0.59560512 0.55642062 0.22522535 0.22756391]\n",
      " [0.09072403 0.30684189 0.39313504 0.61830848]\n",
      " [0.43938246 0.17871684 0.46045236 0.54946749]\n",
      " [0.47564141 0.17148196 0.29633668 0.76410264]\n",
      " [0.7913685  0.35285487 0.95907114 0.07039177]]\n"
     ]
    }
   ],
   "source": [
    "import numpy as np\n",
    "x = np.random.random((5,4))\n",
    "print(x)"
   ]
  },
  {
   "cell_type": "code",
   "execution_count": 18,
   "id": "ba23e291",
   "metadata": {},
   "outputs": [
    {
     "name": "stdout",
     "output_type": "stream",
     "text": [
      "[1 0 0 0 1]\n"
     ]
    }
   ],
   "source": [
    "y = array([random.randint(0,2) for i in range(5)])\n",
    "print(y)"
   ]
  },
  {
   "cell_type": "code",
   "execution_count": 25,
   "id": "33795b8b",
   "metadata": {},
   "outputs": [
    {
     "name": "stdout",
     "output_type": "stream",
     "text": [
      "[[0.09072403 0.30684189 0.39313504 0.61830848]\n",
      " [0.43938246 0.17871684 0.46045236 0.54946749]\n",
      " [0.47564141 0.17148196 0.29633668 0.76410264]]\n"
     ]
    }
   ],
   "source": [
    "def extract_subset(x,y,y0):\n",
    "    return x[y==y0]\n",
    "\n",
    "x0 = extract_subset(x,y,0)\n",
    "print(x0)"
   ]
  },
  {
   "cell_type": "code",
   "execution_count": 26,
   "id": "b7e89783",
   "metadata": {},
   "outputs": [
    {
     "name": "stdout",
     "output_type": "stream",
     "text": [
      "[0.09072403 0.17148196 0.29633668 0.54946749]\n"
     ]
    }
   ],
   "source": [
    "def min_feature_values(x):\n",
    "    return np.min(x, axis=0)\n",
    "\n",
    "print(min_feature_values(x0))"
   ]
  },
  {
   "cell_type": "code",
   "execution_count": 28,
   "id": "a1a8e181",
   "metadata": {},
   "outputs": [
    {
     "ename": "SyntaxError",
     "evalue": "invalid syntax (3478036365.py, line 15)",
     "output_type": "error",
     "traceback": [
      "\u001b[1;36m  Input \u001b[1;32mIn [28]\u001b[1;36m\u001b[0m\n\u001b[1;33m    xn, yn = make_gaussian_dataset(10, 10, [-1, -1], [+1, +1])\u001b[0m\n\u001b[1;37m                                                              ^\u001b[0m\n\u001b[1;31mSyntaxError\u001b[0m\u001b[1;31m:\u001b[0m invalid syntax\n"
     ]
    }
   ],
   "source": [
    "def make_gaussian_dataset(n0, n1, mu0, mu1):\n",
    "    \"\"\" Creates a 2-class 2-dimensional Gaussian dataset. \"\"\"\n",
    "    d = 2  # hard-coded for convenience, we will improve this later on\n",
    "    x0 = np.random.randn(n0, d) + mu0  # uses broadcasting..\n",
    "    x1 = np.random.randn(n1, d) + mu1\n",
    "    # sample labels\n",
    "    y0 = np.zeros(n0)\n",
    "    y1 = np.ones(n1)\n",
    "    # concatenate data and labels\n",
    "    x = np.vstack((x0, x1))\n",
    "    y = np.hstack((y0, y1))\n",
    "    return x, y\n",
    "\n",
    "# generate data with 10 samples/class, and means [-1,-1], [1, 1]\n",
    "xn, yn = make_gaussian_dataset(10, 10, [-1, -1], [+1, +1])\n",
    "print('xn:\\n', xn)\n",
    "print('yn:\\n', yn)"
   ]
  },
  {
   "cell_type": "code",
   "execution_count": null,
   "id": "16b14dfc",
   "metadata": {},
   "outputs": [],
   "source": []
  }
 ],
 "metadata": {
  "kernelspec": {
   "display_name": "Python 3 (ipykernel)",
   "language": "python",
   "name": "python3"
  },
  "language_info": {
   "codemirror_mode": {
    "name": "ipython",
    "version": 3
   },
   "file_extension": ".py",
   "mimetype": "text/x-python",
   "name": "python",
   "nbconvert_exporter": "python",
   "pygments_lexer": "ipython3",
   "version": "3.9.12"
  }
 },
 "nbformat": 4,
 "nbformat_minor": 5
}

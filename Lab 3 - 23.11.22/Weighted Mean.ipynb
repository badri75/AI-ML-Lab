{
 "cells": [
  {
   "cell_type": "code",
   "execution_count": 82,
   "id": "8e5c80a6",
   "metadata": {},
   "outputs": [],
   "source": [
    "import pandas as pd\n",
    "knn = pd.read_csv(\"KNN Dataset.csv\")\n",
    "x = knn['Height']\n",
    "y = knn['Weight']"
   ]
  },
  {
   "cell_type": "code",
   "execution_count": 83,
   "id": "e32f533a",
   "metadata": {},
   "outputs": [],
   "source": [
    "t = [170,57]\n",
    "k = 3"
   ]
  },
  {
   "cell_type": "code",
   "execution_count": 84,
   "id": "99c50c7b",
   "metadata": {},
   "outputs": [],
   "source": [
    "import math\n",
    "ds = []\n",
    "for i in range(len(x)):\n",
    "    x1 = (t[0] - x[i]) ** 2\n",
    "    y1 = (t[1] - y[i]) ** 2\n",
    "    e = math.sqrt(x1 + y1)\n",
    "    ds.append(e)\n",
    "knn['Distance'] = ds"
   ]
  },
  {
   "cell_type": "code",
   "execution_count": 93,
   "id": "32d09d81",
   "metadata": {},
   "outputs": [
    {
     "data": {
      "text/plain": [
       "Index(['Normal'], dtype='object', name='Class')"
      ]
     },
     "execution_count": 93,
     "metadata": {},
     "output_type": "execute_result"
    }
   ],
   "source": [
    "\n",
    "nknn = knn.sort_values(by=['Distance'])\n",
    "nknn = nknn.head(k)\n",
    "nknn['Inverse'] = 1/nknn['Distance']\n",
    "su = nknn['Inverse'].sum()\n",
    "nknn['Divide'] = nknn['Inverse']/su\n",
    "# Added a value manually\n",
    "nknn.at[7,'Class'] = 'UnderWeight'\n",
    "\n",
    "s = nknn.groupby([\"Class\"]).sum()\n",
    "s = s.sort_values(by=['Divide'])\n",
    "s = s.tail(1)\n",
    "s.index"
   ]
  },
  {
   "cell_type": "code",
   "execution_count": null,
   "id": "63b0f750",
   "metadata": {},
   "outputs": [],
   "source": []
  }
 ],
 "metadata": {
  "kernelspec": {
   "display_name": "Python 3 (ipykernel)",
   "language": "python",
   "name": "python3"
  },
  "language_info": {
   "codemirror_mode": {
    "name": "ipython",
    "version": 3
   },
   "file_extension": ".py",
   "mimetype": "text/x-python",
   "name": "python",
   "nbconvert_exporter": "python",
   "pygments_lexer": "ipython3",
   "version": "3.9.12"
  }
 },
 "nbformat": 4,
 "nbformat_minor": 5
}

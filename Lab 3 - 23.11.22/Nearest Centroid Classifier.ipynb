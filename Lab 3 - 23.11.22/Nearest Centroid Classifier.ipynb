{
 "cells": [
  {
   "cell_type": "code",
   "execution_count": 6,
   "metadata": {},
   "outputs": [],
   "source": [
    "import pandas as pd\n",
    "knn = pd.read_csv(\"Dataset/KNN Dataset.csv\")"
   ]
  },
  {
   "cell_type": "code",
   "execution_count": 7,
   "metadata": {},
   "outputs": [],
   "source": [
    "# Test Data Set\n",
    "t = [170,57]\n",
    "k = 3"
   ]
  },
  {
   "cell_type": "code",
   "execution_count": 8,
   "metadata": {},
   "outputs": [],
   "source": [
    "# Finding Centroid\n",
    "grp = knn.groupby([\"Class\"])\n",
    "cen = grp.sum().divide(grp.count())"
   ]
  },
  {
   "cell_type": "code",
   "execution_count": 11,
   "metadata": {},
   "outputs": [
    {
     "name": "stdout",
     "output_type": "stream",
     "text": [
      "We Choose Underweight class which has minimum Distance: 3.5355\n"
     ]
    }
   ],
   "source": [
    "# Finding Distance\n",
    "import math\n",
    "ds = []\n",
    "for i in range(len(cen)):\n",
    "    x1 = (t[0] - cen.iloc[i][0]) ** 2\n",
    "    y1 = (t[1] - cen.iloc[i][1]) ** 2\n",
    "    e = math.sqrt(x1 + y1).__round__(4)\n",
    "    ds.append(e)\n",
    "cen['Distance'] = ds\n",
    "cen.sort_values(by=['Distance'], inplace=True)\n",
    "# print(cen)\n",
    "print(\"We Choose\",cen.index[0], \"class which has minimum Distance:\",cen.iloc[0][2])"
   ]
  }
 ],
 "metadata": {
  "kernelspec": {
   "display_name": "Python 3.10.1 64-bit",
   "language": "python",
   "name": "python3"
  },
  "language_info": {
   "codemirror_mode": {
    "name": "ipython",
    "version": 3
   },
   "file_extension": ".py",
   "mimetype": "text/x-python",
   "name": "python",
   "nbconvert_exporter": "python",
   "pygments_lexer": "ipython3",
   "version": "3.10.1"
  },
  "orig_nbformat": 4,
  "vscode": {
   "interpreter": {
    "hash": "bc5dc6df8a1435460f2b5268b631217fa959ba9e5d5bbcb27f695e36ca128e75"
   }
  }
 },
 "nbformat": 4,
 "nbformat_minor": 2
}

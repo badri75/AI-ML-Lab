{
 "cells": [
  {
   "cell_type": "markdown",
   "metadata": {},
   "source": [
    "Import Necessary items"
   ]
  },
  {
   "cell_type": "code",
   "execution_count": 1,
   "metadata": {},
   "outputs": [],
   "source": [
    "import pandas as pd\n",
    "knn = pd.read_csv(\"Dataset/KNN DS 1.csv\")\n",
    "x = knn.iloc[:, 0]\n",
    "y = knn.iloc[:, 1]\n",
    "z = knn.iloc[:, 2]"
   ]
  },
  {
   "cell_type": "markdown",
   "metadata": {},
   "source": [
    "Test Data Set"
   ]
  },
  {
   "cell_type": "code",
   "execution_count": 2,
   "metadata": {},
   "outputs": [],
   "source": [
    "t = [6.1, 40, 5]\n",
    "k = 3"
   ]
  },
  {
   "cell_type": "markdown",
   "metadata": {},
   "source": [
    "Finding Distance"
   ]
  },
  {
   "cell_type": "code",
   "execution_count": 3,
   "metadata": {},
   "outputs": [],
   "source": [
    "import math\n",
    "ds = []\n",
    "for i in range(len(x)):\n",
    "    x1 = (t[0] - x[i]) ** 2\n",
    "    y1 = (t[1] - y[i]) ** 2\n",
    "    z1 = (t[2] - z[i]) ** 2\n",
    "    e = math.sqrt(x1 + y1 + z1)\n",
    "    ds.append(e)\n",
    "knn['Distance'] = ds\n",
    "# knn"
   ]
  },
  {
   "cell_type": "markdown",
   "metadata": {},
   "source": [
    "Sorting and Finding Result"
   ]
  },
  {
   "cell_type": "code",
   "execution_count": 4,
   "metadata": {},
   "outputs": [
    {
     "name": "stdout",
     "output_type": "stream",
     "text": [
      "The result is Fail\n"
     ]
    }
   ],
   "source": [
    "nknn = knn.sort_values(by=['Distance'])\n",
    "nknn = nknn.head(k)\n",
    "res = nknn['Result'].max()\n",
    "print(\"The result is \"+res)"
   ]
  }
 ],
 "metadata": {
  "kernelspec": {
   "display_name": "Python 3 (ipykernel)",
   "language": "python",
   "name": "python3"
  },
  "language_info": {
   "codemirror_mode": {
    "name": "ipython",
    "version": 3
   },
   "file_extension": ".py",
   "mimetype": "text/x-python",
   "name": "python",
   "nbconvert_exporter": "python",
   "pygments_lexer": "ipython3",
   "version": "3.9.12"
  },
  "vscode": {
   "interpreter": {
    "hash": "bc5dc6df8a1435460f2b5268b631217fa959ba9e5d5bbcb27f695e36ca128e75"
   }
  }
 },
 "nbformat": 4,
 "nbformat_minor": 2
}

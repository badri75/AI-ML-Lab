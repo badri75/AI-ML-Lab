{
 "cells": [
  {
   "cell_type": "markdown",
   "metadata": {},
   "source": [
    "Importing Necessary Packages"
   ]
  },
  {
   "cell_type": "code",
   "execution_count": 2,
   "metadata": {},
   "outputs": [],
   "source": [
    "import pandas as pd\n",
    "knn = pd.read_csv(\"Dataset/NCC Class.csv\")\n",
    "# knn"
   ]
  },
  {
   "cell_type": "markdown",
   "metadata": {},
   "source": [
    "Test Dataset"
   ]
  },
  {
   "cell_type": "code",
   "execution_count": 3,
   "metadata": {},
   "outputs": [],
   "source": [
    "t = [6,5]\n",
    "k = 3"
   ]
  },
  {
   "cell_type": "markdown",
   "metadata": {},
   "source": [
    "Finding Centroid"
   ]
  },
  {
   "cell_type": "code",
   "execution_count": 4,
   "metadata": {},
   "outputs": [],
   "source": [
    "grp = knn.groupby([\"Class\"])\n",
    "cen = grp.sum().divide(grp.count())\n",
    "# cen"
   ]
  },
  {
   "cell_type": "markdown",
   "metadata": {},
   "source": [
    "Finding Distance"
   ]
  },
  {
   "cell_type": "code",
   "execution_count": 5,
   "metadata": {},
   "outputs": [
    {
     "name": "stdout",
     "output_type": "stream",
     "text": [
      "We Choose B class which has minimum Distance: 1.4142\n"
     ]
    }
   ],
   "source": [
    "import math\n",
    "ds = []\n",
    "for i in range(len(cen)):\n",
    "    x1 = (t[0] - cen.iloc[i][0]) ** 2\n",
    "    y1 = (t[1] - cen.iloc[i][1]) ** 2\n",
    "    e = math.sqrt(x1 + y1).__round__(4)\n",
    "    ds.append(e)\n",
    "cen['Distance'] = ds\n",
    "cen.sort_values(by=['Distance'], inplace=True)\n",
    "# print(cen)\n",
    "print(\"We Choose\",cen.index[0], \"class which has minimum Distance:\",cen.iloc[0][2])"
   ]
  }
 ],
 "metadata": {
  "kernelspec": {
   "display_name": "Python 3 (ipykernel)",
   "language": "python",
   "name": "python3"
  },
  "language_info": {
   "codemirror_mode": {
    "name": "ipython",
    "version": 3
   },
   "file_extension": ".py",
   "mimetype": "text/x-python",
   "name": "python",
   "nbconvert_exporter": "python",
   "pygments_lexer": "ipython3",
   "version": "3.9.12"
  },
  "vscode": {
   "interpreter": {
    "hash": "bc5dc6df8a1435460f2b5268b631217fa959ba9e5d5bbcb27f695e36ca128e75"
   }
  }
 },
 "nbformat": 4,
 "nbformat_minor": 2
}

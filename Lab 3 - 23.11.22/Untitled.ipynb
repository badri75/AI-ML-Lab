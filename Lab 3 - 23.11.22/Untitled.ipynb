{
 "cells": [
  {
   "cell_type": "code",
   "execution_count": 9,
   "id": "fe74bd5f",
   "metadata": {},
   "outputs": [],
   "source": [
    "import pandas as pd\n",
    "knn = pd.read_csv(\"KNN Dataset.csv\")\n",
    "x = knn['Height']\n",
    "y = knn['Weight']"
   ]
  },
  {
   "cell_type": "code",
   "execution_count": 10,
   "id": "f8b2a814",
   "metadata": {},
   "outputs": [],
   "source": [
    "t = [170,57]\n",
    "k = 3"
   ]
  },
  {
   "cell_type": "code",
   "execution_count": 11,
   "id": "8cc5d08f",
   "metadata": {},
   "outputs": [],
   "source": [
    "import math\n",
    "ds = []\n",
    "for i in range(len(x)):\n",
    "    x1 = (t[0] - x[i]) ** 2\n",
    "    y1 = (t[1] - y[i]) ** 2\n",
    "    e = math.sqrt(x1 + y1)\n",
    "    ds.append(e)\n",
    "knn['Distance'] = ds"
   ]
  },
  {
   "cell_type": "code",
   "execution_count": 57,
   "id": "fd6b9aa4",
   "metadata": {},
   "outputs": [
    {
     "data": {
      "text/plain": [
       "Class\n",
       "Normal         0.783612\n",
       "UnderWeight    0.216388\n",
       "Name: Divide, dtype: float64"
      ]
     },
     "execution_count": 57,
     "metadata": {},
     "output_type": "execute_result"
    }
   ],
   "source": [
    "nknn = knn.sort_values(by=['Distance'])\n",
    "nknn = nknn.head(k)\n",
    "nknn['Inverse'] = 1/nknn['Distance']\n",
    "su = nknn['Inverse'].sum()\n",
    "nknn['Divide'] = nknn['Inverse']/su\n",
    "nknn.at[7,'Class'] = 'UnderWeight'\n",
    "s = nknn.groupby([\"Class\"]).sum()\n",
    "s[\"Divide\"]"
   ]
  },
  {
   "cell_type": "code",
   "execution_count": null,
   "id": "30baabe7",
   "metadata": {},
   "outputs": [],
   "source": []
  }
 ],
 "metadata": {
  "kernelspec": {
   "display_name": "Python 3 (ipykernel)",
   "language": "python",
   "name": "python3"
  },
  "language_info": {
   "codemirror_mode": {
    "name": "ipython",
    "version": 3
   },
   "file_extension": ".py",
   "mimetype": "text/x-python",
   "name": "python",
   "nbconvert_exporter": "python",
   "pygments_lexer": "ipython3",
   "version": "3.9.12"
  }
 },
 "nbformat": 4,
 "nbformat_minor": 5
}

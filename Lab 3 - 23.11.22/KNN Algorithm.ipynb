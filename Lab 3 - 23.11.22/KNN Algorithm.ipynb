{
 "cells": [
  {
   "cell_type": "code",
   "execution_count": 30,
   "id": "8c1230f4",
   "metadata": {
    "scrolled": true
   },
   "outputs": [],
   "source": [
    "import pandas as pd\n",
    "knn = pd.read_csv(\"KNN Dataset.csv\")\n",
    "x = knn['Height']\n",
    "y = knn['Weight']"
   ]
  },
  {
   "cell_type": "code",
   "execution_count": 35,
   "id": "f0bd318b",
   "metadata": {},
   "outputs": [],
   "source": [
    "t = [170,57]\n",
    "k = 3"
   ]
  },
  {
   "cell_type": "code",
   "execution_count": 50,
   "id": "cbdeabf6",
   "metadata": {
    "scrolled": false
   },
   "outputs": [
    {
     "data": {
      "text/plain": [
       "'Normal'"
      ]
     },
     "execution_count": 50,
     "metadata": {},
     "output_type": "execute_result"
    }
   ],
   "source": [
    "import math\n",
    "ds = []\n",
    "for i in range(len(x)):\n",
    "    x1 = (t[0] - x[i]) ** 2\n",
    "    y1 = (t[1] - y[i]) ** 2\n",
    "    e = math.sqrt(x1 + y1)\n",
    "    ds.append(e)\n",
    "knn['Distance'] = ds"
   ]
  },
  {
   "cell_type": "code",
   "execution_count": 51,
   "id": "47c652b4",
   "metadata": {
    "scrolled": true
   },
   "outputs": [
    {
     "name": "stdout",
     "output_type": "stream",
     "text": [
      "The result is Normal\n"
     ]
    }
   ],
   "source": [
    "nknn = knn.sort_values(by=['Distance'])\n",
    "nknn = nknn.head(k)\n",
    "res = nknn['Class'].max()\n",
    "print(\"The result is \"+res)"
   ]
  },
  {
   "cell_type": "code",
   "execution_count": 54,
   "id": "29c7a2d5",
   "metadata": {},
   "outputs": [
    {
     "data": {
      "text/plain": [
       "'Normal'"
      ]
     },
     "execution_count": 54,
     "metadata": {},
     "output_type": "execute_result"
    }
   ],
   "source": [
    "res"
   ]
  },
  {
   "cell_type": "code",
   "execution_count": null,
   "id": "15132ab2",
   "metadata": {},
   "outputs": [],
   "source": []
  }
 ],
 "metadata": {
  "kernelspec": {
   "display_name": "Python 3 (ipykernel)",
   "language": "python",
   "name": "python3"
  },
  "language_info": {
   "codemirror_mode": {
    "name": "ipython",
    "version": 3
   },
   "file_extension": ".py",
   "mimetype": "text/x-python",
   "name": "python",
   "nbconvert_exporter": "python",
   "pygments_lexer": "ipython3",
   "version": "3.9.12"
  }
 },
 "nbformat": 4,
 "nbformat_minor": 5
}

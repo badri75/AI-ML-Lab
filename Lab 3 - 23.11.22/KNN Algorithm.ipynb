{
 "cells": [
  {
   "cell_type": "code",
   "execution_count": 1,
   "id": "8c1230f4",
   "metadata": {
    "scrolled": true
   },
   "outputs": [],
   "source": [
    "import pandas as pd\n",
    "knn = pd.read_csv(\"Dataset/KNN Dataset.csv\")\n",
    "x = knn.iloc[:, 0]\n",
    "y = knn.iloc[:, 1]"
   ]
  },
  {
   "cell_type": "code",
   "execution_count": 2,
   "id": "f0bd318b",
   "metadata": {},
   "outputs": [],
   "source": [
    "# Test Data Set\n",
    "t = [170,57]\n",
    "k = 3"
   ]
  },
  {
   "cell_type": "code",
   "execution_count": 3,
   "id": "cbdeabf6",
   "metadata": {
    "scrolled": false
   },
   "outputs": [],
   "source": [
    "import math\n",
    "ds = []\n",
    "for i in range(len(x)):\n",
    "    x1 = (t[0] - x[i]) ** 2\n",
    "    y1 = (t[1] - y[i]) ** 2\n",
    "    e = math.sqrt(x1 + y1)\n",
    "    ds.append(e)\n",
    "knn['Distance'] = ds"
   ]
  },
  {
   "cell_type": "code",
   "execution_count": 4,
   "id": "47c652b4",
   "metadata": {
    "scrolled": true
   },
   "outputs": [
    {
     "name": "stdout",
     "output_type": "stream",
     "text": [
      "The result is Normal\n"
     ]
    }
   ],
   "source": [
    "nknn = knn.sort_values(by=['Distance'])\n",
    "nknn = nknn.head(k)\n",
    "res = nknn['Class'].max()\n",
    "print(\"The result is \"+res)"
   ]
  }
 ],
 "metadata": {
  "kernelspec": {
   "display_name": "Python 3.10.1 64-bit",
   "language": "python",
   "name": "python3"
  },
  "language_info": {
   "codemirror_mode": {
    "name": "ipython",
    "version": 3
   },
   "file_extension": ".py",
   "mimetype": "text/x-python",
   "name": "python",
   "nbconvert_exporter": "python",
   "pygments_lexer": "ipython3",
   "version": "3.10.1"
  },
  "vscode": {
   "interpreter": {
    "hash": "bc5dc6df8a1435460f2b5268b631217fa959ba9e5d5bbcb27f695e36ca128e75"
   }
  }
 },
 "nbformat": 4,
 "nbformat_minor": 5
}

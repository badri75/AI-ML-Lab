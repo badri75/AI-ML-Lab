{
 "cells": [
  {
   "cell_type": "markdown",
   "metadata": {},
   "source": [
    "Import Necessary items"
   ]
  },
  {
   "cell_type": "code",
   "execution_count": 1,
   "metadata": {},
   "outputs": [],
   "source": [
    "import pandas as pd\n",
    "knn = pd.read_csv(\"Dataset/KNN DS 1.csv\")\n",
    "x = knn.iloc[:, 0]\n",
    "y = knn.iloc[:, 1]\n",
    "z = knn.iloc[:, 2]"
   ]
  },
  {
   "cell_type": "markdown",
   "metadata": {},
   "source": [
    "Test Data Set"
   ]
  },
  {
   "cell_type": "code",
   "execution_count": 2,
   "metadata": {},
   "outputs": [],
   "source": [
    "t = [6.1, 40, 5]\n",
    "k = 3"
   ]
  },
  {
   "cell_type": "markdown",
   "metadata": {},
   "source": [
    "Finding Distance"
   ]
  },
  {
   "cell_type": "code",
   "execution_count": 3,
   "metadata": {},
   "outputs": [
    {
     "data": {
      "text/html": [
       "<div>\n",
       "<style scoped>\n",
       "    .dataframe tbody tr th:only-of-type {\n",
       "        vertical-align: middle;\n",
       "    }\n",
       "\n",
       "    .dataframe tbody tr th {\n",
       "        vertical-align: top;\n",
       "    }\n",
       "\n",
       "    .dataframe thead th {\n",
       "        text-align: right;\n",
       "    }\n",
       "</style>\n",
       "<table border=\"1\" class=\"dataframe\">\n",
       "  <thead>\n",
       "    <tr style=\"text-align: right;\">\n",
       "      <th></th>\n",
       "      <th>CGPA</th>\n",
       "      <th>Assess</th>\n",
       "      <th>Project</th>\n",
       "      <th>Result</th>\n",
       "      <th>Distance</th>\n",
       "    </tr>\n",
       "  </thead>\n",
       "  <tbody>\n",
       "    <tr>\n",
       "      <th>0</th>\n",
       "      <td>9.2</td>\n",
       "      <td>85</td>\n",
       "      <td>9</td>\n",
       "      <td>Pass</td>\n",
       "      <td>45.283662</td>\n",
       "    </tr>\n",
       "    <tr>\n",
       "      <th>1</th>\n",
       "      <td>8.0</td>\n",
       "      <td>80</td>\n",
       "      <td>7</td>\n",
       "      <td>Pass</td>\n",
       "      <td>40.095012</td>\n",
       "    </tr>\n",
       "    <tr>\n",
       "      <th>2</th>\n",
       "      <td>8.5</td>\n",
       "      <td>81</td>\n",
       "      <td>8</td>\n",
       "      <td>Pass</td>\n",
       "      <td>41.179607</td>\n",
       "    </tr>\n",
       "    <tr>\n",
       "      <th>3</th>\n",
       "      <td>6.0</td>\n",
       "      <td>45</td>\n",
       "      <td>5</td>\n",
       "      <td>Fail</td>\n",
       "      <td>5.001000</td>\n",
       "    </tr>\n",
       "    <tr>\n",
       "      <th>4</th>\n",
       "      <td>6.5</td>\n",
       "      <td>50</td>\n",
       "      <td>4</td>\n",
       "      <td>Fail</td>\n",
       "      <td>10.057833</td>\n",
       "    </tr>\n",
       "    <tr>\n",
       "      <th>5</th>\n",
       "      <td>8.2</td>\n",
       "      <td>72</td>\n",
       "      <td>7</td>\n",
       "      <td>Pass</td>\n",
       "      <td>32.131138</td>\n",
       "    </tr>\n",
       "    <tr>\n",
       "      <th>6</th>\n",
       "      <td>5.8</td>\n",
       "      <td>38</td>\n",
       "      <td>5</td>\n",
       "      <td>Fail</td>\n",
       "      <td>2.022375</td>\n",
       "    </tr>\n",
       "    <tr>\n",
       "      <th>7</th>\n",
       "      <td>8.9</td>\n",
       "      <td>91</td>\n",
       "      <td>9</td>\n",
       "      <td>Pass</td>\n",
       "      <td>51.233192</td>\n",
       "    </tr>\n",
       "  </tbody>\n",
       "</table>\n",
       "</div>"
      ],
      "text/plain": [
       "   CGPA  Assess  Project Result   Distance\n",
       "0   9.2      85        9   Pass  45.283662\n",
       "1   8.0      80        7   Pass  40.095012\n",
       "2   8.5      81        8   Pass  41.179607\n",
       "3   6.0      45        5   Fail   5.001000\n",
       "4   6.5      50        4   Fail  10.057833\n",
       "5   8.2      72        7   Pass  32.131138\n",
       "6   5.8      38        5   Fail   2.022375\n",
       "7   8.9      91        9   Pass  51.233192"
      ]
     },
     "execution_count": 3,
     "metadata": {},
     "output_type": "execute_result"
    }
   ],
   "source": [
    "import math\n",
    "ds = []\n",
    "for i in range(len(x)):\n",
    "    x1 = (t[0] - x[i]) ** 2\n",
    "    y1 = (t[1] - y[i]) ** 2\n",
    "    z1 = (t[2] - z[i]) ** 2\n",
    "    e = math.sqrt(x1 + y1 + z1)\n",
    "    ds.append(e)\n",
    "knn['Distance'] = ds\n",
    "# knn"
   ]
  },
  {
   "cell_type": "markdown",
   "metadata": {},
   "source": [
    "Sorting and Finding Result"
   ]
  },
  {
   "cell_type": "code",
   "execution_count": 7,
   "metadata": {},
   "outputs": [
    {
     "name": "stdout",
     "output_type": "stream",
     "text": [
      "We Choose Fail Result 0.9999999999999999\n"
     ]
    }
   ],
   "source": [
    "nknn = knn.sort_values(by=['Distance'])\n",
    "nknn = nknn.head(k)\n",
    "nknn['Inverse'] = 1/nknn['Distance']\n",
    "su = nknn['Inverse'].sum()\n",
    "nknn['Divide'] = nknn['Inverse']/su\n",
    "s = nknn.groupby([\"Result\"]).sum()\n",
    "s = s.sort_values(by=['Divide'],ascending=False)\n",
    "if len(s) > 1:\n",
    "    if[s['Divide'][0] > s['Divide'][1]]:\n",
    "        print(\"We Choose\",s.index[0],\"Result\",s['Divide'][0])\n",
    "    else:\n",
    "         print(\"We Choose\",s.index[1],\"Result\",s['Divide'][1])\n",
    "else:\n",
    "     print(\"We Choose\",s.index[0],\"Result\",s['Divide'][0])"
   ]
  }
 ],
 "metadata": {
  "kernelspec": {
   "display_name": "Python 3.10.1 64-bit",
   "language": "python",
   "name": "python3"
  },
  "language_info": {
   "codemirror_mode": {
    "name": "ipython",
    "version": 3
   },
   "file_extension": ".py",
   "mimetype": "text/x-python",
   "name": "python",
   "nbconvert_exporter": "python",
   "pygments_lexer": "ipython3",
   "version": "3.10.1"
  },
  "orig_nbformat": 4,
  "vscode": {
   "interpreter": {
    "hash": "bc5dc6df8a1435460f2b5268b631217fa959ba9e5d5bbcb27f695e36ca128e75"
   }
  }
 },
 "nbformat": 4,
 "nbformat_minor": 2
}

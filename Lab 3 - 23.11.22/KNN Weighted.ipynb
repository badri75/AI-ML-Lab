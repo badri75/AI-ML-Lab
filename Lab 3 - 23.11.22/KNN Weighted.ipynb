{
 "cells": [
  {
   "cell_type": "code",
   "execution_count": 1,
   "id": "fe74bd5f",
   "metadata": {},
   "outputs": [],
   "source": [
    "import pandas as pd\n",
    "knn = pd.read_csv(\"Dataset/KNN Dataset.csv\")\n",
    "x = knn.iloc[:, 0]\n",
    "y = knn.iloc[:, 1]"
   ]
  },
  {
   "cell_type": "code",
   "execution_count": 2,
   "id": "f8b2a814",
   "metadata": {},
   "outputs": [],
   "source": [
    "# Test Data Set\n",
    "t = [170,57]\n",
    "k = 3"
   ]
  },
  {
   "cell_type": "code",
   "execution_count": 3,
   "id": "8cc5d08f",
   "metadata": {},
   "outputs": [],
   "source": [
    "import math\n",
    "ds = []\n",
    "for i in range(len(x)):\n",
    "    x1 = (t[0] - x[i]) ** 2\n",
    "    y1 = (t[1] - y[i]) ** 2\n",
    "    e = math.sqrt(x1 + y1)\n",
    "    ds.append(e)\n",
    "knn['Distance'] = ds"
   ]
  },
  {
   "cell_type": "code",
   "execution_count": 4,
   "id": "fd6b9aa4",
   "metadata": {},
   "outputs": [
    {
     "name": "stdout",
     "output_type": "stream",
     "text": [
      "We Choose Normal Class 1.0\n"
     ]
    }
   ],
   "source": [
    "nknn = knn.sort_values(by=['Distance'])\n",
    "nknn = nknn.head(k)\n",
    "nknn['Inverse'] = 1/nknn['Distance']\n",
    "su = nknn['Inverse'].sum()\n",
    "nknn['Divide'] = nknn['Inverse']/su\n",
    "# Altered below line to check the efficiency of the code\n",
    "# nknn.at[7,'Class'] = 'UnderWeight'\n",
    "s = nknn.groupby([\"Class\"]).sum()\n",
    "s = s.sort_values(by=['Divide'],ascending=False)\n",
    "if len(s) > 1:\n",
    "    if[s['Divide'][0] > s['Divide'][1]]:\n",
    "        print(\"We Choose\",s.index[0],\"Class\",s['Divide'][0])\n",
    "    else:\n",
    "         print(\"We Choose\",s.index[1],\"Class\",s['Divide'][1])\n",
    "else:\n",
    "     print(\"We Choose\",s.index[0],\"Class\",s['Divide'][0])"
   ]
  }
 ],
 "metadata": {
  "kernelspec": {
   "display_name": "Python 3.10.1 64-bit",
   "language": "python",
   "name": "python3"
  },
  "language_info": {
   "codemirror_mode": {
    "name": "ipython",
    "version": 3
   },
   "file_extension": ".py",
   "mimetype": "text/x-python",
   "name": "python",
   "nbconvert_exporter": "python",
   "pygments_lexer": "ipython3",
   "version": "3.10.1"
  },
  "vscode": {
   "interpreter": {
    "hash": "bc5dc6df8a1435460f2b5268b631217fa959ba9e5d5bbcb27f695e36ca128e75"
   }
  }
 },
 "nbformat": 4,
 "nbformat_minor": 5
}

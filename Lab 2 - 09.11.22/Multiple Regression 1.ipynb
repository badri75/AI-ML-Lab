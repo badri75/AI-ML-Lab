{
 "cells": [
  {
   "cell_type": "code",
   "execution_count": null,
   "id": "3417446d",
   "metadata": {
    "scrolled": true
   },
   "outputs": [],
   "source": [
    "pip install xlrd"
   ]
  },
  {
   "cell_type": "code",
   "execution_count": null,
   "id": "e6eb08eb",
   "metadata": {},
   "outputs": [],
   "source": [
    "import pandas as pd\n",
    "import numpy as np"
   ]
  },
  {
   "cell_type": "code",
   "execution_count": null,
   "id": "f6bd5cb3",
   "metadata": {},
   "outputs": [],
   "source": [
    "df = pd.read_excel(\"Multiple Regression\\DS4.xls\",engine=\"xlrd\")\n",
    "df"
   ]
  },
  {
   "cell_type": "code",
   "execution_count": null,
   "id": "d8195929",
   "metadata": {},
   "outputs": [],
   "source": [
    "x = pd.DataFrame(df.iloc[:,:-1])\n",
    "Y = pd.DataFrame(df.iloc[:,-1])\n",
    "b = pd.DataFrame(np.ones(Y.count()))\n",
    "x1 = [b,x]"
   ]
  },
  {
   "cell_type": "code",
   "execution_count": null,
   "id": "6211f674",
   "metadata": {},
   "outputs": [],
   "source": [
    "X = pd.concat(x1,axis=1)\n",
    "X_transpose = np.transpose(X)\n",
    "Xt_X = X_transpose.dot(X)\n",
    "xtx_inverse = np.linalg.inv(Xt_X)\n",
    "Xt_Y = X_transpose.dot(Y)\n",
    "B = xtx_inverse.dot(Xt_Y)\n",
    "B"
   ]
  },
  {
   "cell_type": "code",
   "execution_count": null,
   "id": "7bd65f2b",
   "metadata": {},
   "outputs": [],
   "source": [
    "for i in range(len(B)):\n",
    "    print(\"a[\",i,\"] = \",B[i])"
   ]
  },
  {
   "cell_type": "code",
   "execution_count": null,
   "id": "32f927a4",
   "metadata": {
    "scrolled": false
   },
   "outputs": [],
   "source": [
    "X_Pred = 0\n",
    "for i in range(1,len(B)):\n",
    "    X_Pred += (B[i] * df['X'+str(i)])\n",
    "X_Pred += B[0]\n",
    "i += 1\n",
    "df['X'+str(i)+'_Pred'] = X_Pred\n",
    "df"
   ]
  },
  {
   "cell_type": "code",
   "execution_count": null,
   "id": "cc76979b",
   "metadata": {
    "scrolled": false
   },
   "outputs": [],
   "source": [
    "X_mean = df['X'+str(i)].mean()\n",
    "a = df['X'+str(i)+'_Pred']- X_mean\n",
    "b = df['X'+str(i)] - X_mean\n",
    "a2 = a*a\n",
    "b2 = b*b\n",
    "r2 = a2.sum()/b2.sum()\n",
    "print(\"Coefficient of Determination (R2) =\", r2)"
   ]
  },
  {
   "cell_type": "code",
   "execution_count": null,
   "id": "acc10153",
   "metadata": {},
   "outputs": [],
   "source": [
    "import math\n",
    "c = df['X'+str(i)] - df['X'+str(i)+'_Pred']\n",
    "c2 = c*c\n",
    "d = c2.mean()\n",
    "rmse = math.sqrt(d)\n",
    "print(\"Root Mean Square Error (RMSE) =\", rmse)"
   ]
  },
  {
   "cell_type": "code",
   "execution_count": null,
   "id": "a15da7ec",
   "metadata": {},
   "outputs": [],
   "source": [
    "import matplotlib.pyplot as plt\n",
    "plt.scatter(df['X1'],df['X'+str(i)])\n",
    "plt.plot(df['X1'],df['X'+str(i)+'_Pred'],color='red')"
   ]
  }
 ],
 "metadata": {
  "kernelspec": {
   "display_name": "Python 3 (ipykernel)",
   "language": "python",
   "name": "python3"
  },
  "language_info": {
   "codemirror_mode": {
    "name": "ipython",
    "version": 3
   },
   "file_extension": ".py",
   "mimetype": "text/x-python",
   "name": "python",
   "nbconvert_exporter": "python",
   "pygments_lexer": "ipython3",
   "version": "3.9.12"
  }
 },
 "nbformat": 4,
 "nbformat_minor": 5
}

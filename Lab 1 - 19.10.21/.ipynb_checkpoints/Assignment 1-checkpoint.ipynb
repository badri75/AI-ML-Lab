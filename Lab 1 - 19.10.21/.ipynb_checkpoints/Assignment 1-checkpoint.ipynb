{
 "cells": [
  {
   "cell_type": "code",
   "execution_count": 22,
   "id": "fe07e14a",
   "metadata": {
    "scrolled": true
   },
   "outputs": [
    {
     "name": "stdout",
     "output_type": "stream",
     "text": [
      "Mean:  54.7\n",
      "Median:  50.0\n",
      "Standard Deviation:  18.67\n",
      "Variance:  348.46\n",
      "Sum:  547\n",
      "Maximum:  95\n",
      "Minimum:  31\n",
      "Total Count:  10\n"
     ]
    }
   ],
   "source": [
    "import pandas as pd\n",
    "ds = pd.read_csv(\"SampleDB.csv\")\n",
    "x = \"Marks\"\n",
    "# print(ds)\n",
    "\n",
    "print(\"Mean: \",ds[x].mean())\n",
    "print(\"Median: \",ds[x].median())\n",
    "print(\"Standard Deviation: \",\"%.2f\" % ds[x].std())\n",
    "print(\"Variance: \",\"%.2f\" % ds[x].var())\n",
    "print(\"Sum: \",ds[x].sum())\n",
    "print(\"Maximum: \",ds[x].max())\n",
    "print(\"Minimum: \",ds[x].min())\n",
    "print(\"Total Count: \",ds[x].count())"
   ]
  },
  {
   "cell_type": "code",
   "execution_count": 20,
   "id": "adb09abe",
   "metadata": {},
   "outputs": [
    {
     "name": "stdout",
     "output_type": "stream",
     "text": [
      "(10, 2)\n",
      "0    50\n",
      "1    60\n",
      "2    65\n",
      "3    95\n",
      "4    31\n",
      "Name: Marks, dtype: int64\n",
      "count    10.000000\n",
      "mean     54.700000\n",
      "std      18.666964\n",
      "min      31.000000\n",
      "25%      45.000000\n",
      "50%      50.000000\n",
      "75%      63.750000\n",
      "max      95.000000\n",
      "Name: Marks, dtype: float64\n"
     ]
    }
   ],
   "source": [
    "print(ds[[x,\"id\"]].shape)\n",
    "print(ds[x].head(5))\n",
    "print(ds[x].describe())"
   ]
  },
  {
   "cell_type": "code",
   "execution_count": null,
   "id": "c432ba71",
   "metadata": {},
   "outputs": [],
   "source": [
    "from sklearn.preprocessing import LabelEncoder\n",
    "gen_enc = "
   ]
  }
 ],
 "metadata": {
  "kernelspec": {
   "display_name": "Python 3 (ipykernel)",
   "language": "python",
   "name": "python3"
  },
  "language_info": {
   "codemirror_mode": {
    "name": "ipython",
    "version": 3
   },
   "file_extension": ".py",
   "mimetype": "text/x-python",
   "name": "python",
   "nbconvert_exporter": "python",
   "pygments_lexer": "ipython3",
   "version": "3.9.12"
  }
 },
 "nbformat": 4,
 "nbformat_minor": 5
}

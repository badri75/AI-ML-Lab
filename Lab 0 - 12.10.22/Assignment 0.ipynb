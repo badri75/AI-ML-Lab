{
 "cells": [
  {
   "cell_type": "code",
   "execution_count": 8,
   "id": "7a814742",
   "metadata": {
    "scrolled": false
   },
   "outputs": [
    {
     "name": "stdout",
     "output_type": "stream",
     "text": [
      "x:\n",
      " [[0.93233676 0.7438053  0.6665873  0.30451194]\n",
      " [0.94242521 0.97154279 0.65276638 0.66886847]\n",
      " [0.34853132 0.26815422 0.90422768 0.87731141]\n",
      " [0.5444588  0.67213929 0.88827223 0.15195895]\n",
      " [0.39896198 0.82184951 0.92899799 0.34414937]]\n",
      "y:\n",
      " [0 0 0 0 1]\n"
     ]
    }
   ],
   "source": [
    "import numpy as np\n",
    "x = np.random.random((5,4))\n",
    "print(\"x:\\n\",x)\n",
    "y = array([random.randint(0,2) for i in range(5)])\n",
    "print(\"y:\\n\",y)"
   ]
  },
  {
   "cell_type": "code",
   "execution_count": 9,
   "id": "33795b8b",
   "metadata": {
    "scrolled": true
   },
   "outputs": [
    {
     "name": "stdout",
     "output_type": "stream",
     "text": [
      "[[0.93233676 0.7438053  0.6665873  0.30451194]\n",
      " [0.94242521 0.97154279 0.65276638 0.66886847]\n",
      " [0.34853132 0.26815422 0.90422768 0.87731141]\n",
      " [0.5444588  0.67213929 0.88827223 0.15195895]]\n"
     ]
    }
   ],
   "source": [
    "def extract_subset(x,y,y0):\n",
    "    return x[y==y0]\n",
    "\n",
    "x0 = extract_subset(x,y,0)\n",
    "print(x0)"
   ]
  },
  {
   "cell_type": "code",
   "execution_count": 10,
   "id": "b7e89783",
   "metadata": {
    "scrolled": true
   },
   "outputs": [
    {
     "name": "stdout",
     "output_type": "stream",
     "text": [
      "[0.34853132 0.26815422 0.65276638 0.15195895]\n"
     ]
    }
   ],
   "source": [
    "def min_feature_values(x):\n",
    "    return np.min(x, axis=0)\n",
    "\n",
    "print(min_feature_values(x0))"
   ]
  },
  {
   "cell_type": "code",
   "execution_count": 11,
   "id": "a1a8e181",
   "metadata": {
    "scrolled": false
   },
   "outputs": [
    {
     "name": "stdout",
     "output_type": "stream",
     "text": [
      "xn:\n",
      " [[-1.25527408 -1.13218567]\n",
      " [-0.72595517  0.02063838]\n",
      " [-0.20590476 -0.85263741]\n",
      " [-1.55489217 -2.61360486]\n",
      " [ 0.00311925 -1.90436481]\n",
      " [-1.88785935 -1.62275237]\n",
      " [-1.82307186 -1.11002003]\n",
      " [-1.50739671  0.27309477]\n",
      " [-0.68800091  0.29405307]\n",
      " [-0.79596887 -1.84366359]\n",
      " [-0.48201695  1.00556535]\n",
      " [ 0.22057959  0.46912953]\n",
      " [ 2.91013542  0.13156094]\n",
      " [ 0.75697611  1.89350701]\n",
      " [ 1.52307448  1.73259319]\n",
      " [ 0.02701766  1.5730398 ]\n",
      " [ 2.15373787  0.21972888]\n",
      " [ 0.48623687  0.86359831]\n",
      " [ 0.79511489  0.51063992]\n",
      " [ 0.83993562  2.30803899]]\n",
      "yn:\n",
      " [0. 0. 0. 0. 0. 0. 0. 0. 0. 0. 1. 1. 1. 1. 1. 1. 1. 1. 1. 1.]\n"
     ]
    }
   ],
   "source": [
    "def make_gaussian_dataset(n0, n1, mu0, mu1):\n",
    "    d = 2\n",
    "    x0 = np.random.randn(n0, d) + mu0\n",
    "    x1 = np.random.randn(n1, d) + mu1\n",
    "\n",
    "    y0 = np.zeros(n0)\n",
    "    y1 = np.ones(n1)\n",
    "\n",
    "    x = np.vstack((x0, x1))\n",
    "    y = np.hstack((y0, y1))\n",
    "    return x, y\n",
    "\n",
    "xn, yn = make_gaussian_dataset(10, 10, [-1, -1], [+1, +1])\n",
    "print('xn:\\n', xn)\n",
    "print('yn:\\n', yn)"
   ]
  },
  {
   "cell_type": "code",
   "execution_count": null,
   "id": "16b14dfc",
   "metadata": {},
   "outputs": [],
   "source": []
  },
  {
   "cell_type": "code",
   "execution_count": null,
   "id": "2dc0847a",
   "metadata": {},
   "outputs": [],
   "source": []
  }
 ],
 "metadata": {
  "kernelspec": {
   "display_name": "Python 3 (ipykernel)",
   "language": "python",
   "name": "python3"
  },
  "language_info": {
   "codemirror_mode": {
    "name": "ipython",
    "version": 3
   },
   "file_extension": ".py",
   "mimetype": "text/x-python",
   "name": "python",
   "nbconvert_exporter": "python",
   "pygments_lexer": "ipython3",
   "version": "3.9.12"
  }
 },
 "nbformat": 4,
 "nbformat_minor": 5
}

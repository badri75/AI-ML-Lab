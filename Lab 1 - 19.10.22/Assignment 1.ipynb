{
 "cells": [
  {
   "cell_type": "code",
   "execution_count": 7,
   "id": "fe07e14a",
   "metadata": {
    "scrolled": true
   },
   "outputs": [
    {
     "name": "stdout",
     "output_type": "stream",
     "text": [
      "Mean:  54.7\n",
      "Median:  50.0\n",
      "Standard Deviation:  18.67\n",
      "Variance:  348.46\n",
      "Sum:  547\n",
      "Maximum:  95\n",
      "Minimum:  31\n",
      "Total Count:  10\n"
     ]
    }
   ],
   "source": [
    "import pandas as pd\n",
    "ds = pd.read_csv(\"SDB1.csv\")\n",
    "x = \"Marks\"\n",
    "# print(ds)\n",
    "\n",
    "print(\"Mean: \",ds[x].mean())\n",
    "print(\"Median: \",ds[x].median())\n",
    "print(\"Standard Deviation: \",\"%.2f\" % ds[x].std())\n",
    "print(\"Variance: \",\"%.2f\" % ds[x].var())\n",
    "print(\"Sum: \",ds[x].sum())\n",
    "print(\"Maximum: \",ds[x].max())\n",
    "print(\"Minimum: \",ds[x].min())\n",
    "print(\"Total Count: \",ds[x].count())"
   ]
  },
  {
   "cell_type": "code",
   "execution_count": 20,
   "id": "adb09abe",
   "metadata": {},
   "outputs": [
    {
     "name": "stdout",
     "output_type": "stream",
     "text": [
      "(10, 2)\n",
      "0    50\n",
      "1    60\n",
      "2    65\n",
      "3    95\n",
      "4    31\n",
      "Name: Marks, dtype: int64\n",
      "count    10.000000\n",
      "mean     54.700000\n",
      "std      18.666964\n",
      "min      31.000000\n",
      "25%      45.000000\n",
      "50%      50.000000\n",
      "75%      63.750000\n",
      "max      95.000000\n",
      "Name: Marks, dtype: float64\n"
     ]
    }
   ],
   "source": [
    "print(ds[[x,\"id\"]].shape)\n",
    "print(ds[x].head(5))\n",
    "print(ds[x].describe())"
   ]
  },
  {
   "cell_type": "code",
   "execution_count": 4,
   "id": "c432ba71",
   "metadata": {},
   "outputs": [
    {
     "name": "stdout",
     "output_type": "stream",
     "text": [
      "Details of the Data\n",
      " DescribeResult(nobs=28, minmax=(1, 80), mean=28.178571428571427, variance=750.1521164021162, skewness=0.6737989979209864, kurtosis=-1.2071500249112477)\n",
      "\n",
      "THE CUMMULATIVE FREQUENCY:\\ CumfreqResult(cumcount=array([ 5., 15., 16., 18., 19., 20., 21., 24., 27., 28.]), lowerlimit=-3.3888888888888893, binsize=8.777777777777777, extrapoints=0)\n",
      "\n",
      "GEOMETRIC MEAN:\\ 15.215915981908925\n",
      "\n",
      "HARMONIC MEAN:\\ 7.298021645523307\n",
      "\n",
      "INTERQUARTILE RANGE:\n",
      " 50.5\n",
      "\n",
      "ZSCORE:\n",
      " [-1.01052972 -0.9733486  -0.93616748 -0.89898636 -0.86180524 -0.82462412\n",
      " -0.787443   -0.787443   -0.75026188 -0.787443   -0.75026188 -0.75026188\n",
      " -0.71308076 -0.6015374  -0.56435628 -0.48999404 -0.15536396 -0.00663949\n",
      "  0.40235283  0.73698291  1.07161299  1.14597522  1.18315634  1.33188082\n",
      "  1.51778642  1.59214866  1.74087314  1.92677874]\n",
      "\n",
      "SKEWNESS:\n",
      " 0.6737989979209864\n",
      "\n",
      "KURTOSIS:\n",
      " -1.2071500249112477\n",
      "\n",
      "Correlation of the data \n",
      " SpearmanrResult(correlation=1.0, pvalue=0.0)\n"
     ]
    }
   ],
   "source": [
    "# from sklearn.preprocessing import stats\n",
    "from scipy import stats\n",
    "data=[1,2,3,4,5,6,7,7,8,7,8,8,9,12,13,15,24,28,39,48,57,59,60,64,69,71,75,80]\n",
    "print(\"Details of the Data\\n\",stats.describe(data))\n",
    "print(\"\\nTHE CUMMULATIVE FREQUENCY:\\\\\",stats.cumfreq(data))\n",
    "print(\"\\nGEOMETRIC MEAN:\\\\\",stats.gmean(data))\n",
    "print(\"\\nHARMONIC MEAN:\\\\\",stats.hmean(data))\n",
    "print(\"\\nINTERQUARTILE RANGE:\\n\",stats.iqr(data))\n",
    "print(\"\\nZSCORE:\\n\",stats.zscore(data))\n",
    "print(\"\\nSKEWNESS:\\n\",stats.skew(data))\n",
    "print(\"\\nKURTOSIS:\\n\",stats.kurtosis(data))\n",
    "\n",
    "data1 = [1,2,3,6,8,10]\n",
    "data2 = [2,3,4,5,9,12]\n",
    "print(\"\\nCorrelation of the data \\n\",stats.spearmanr(data1,data2))"
   ]
  },
  {
   "cell_type": "code",
   "execution_count": null,
   "id": "17b95784",
   "metadata": {},
   "outputs": [],
   "source": []
  }
 ],
 "metadata": {
  "kernelspec": {
   "display_name": "Python 3 (ipykernel)",
   "language": "python",
   "name": "python3"
  },
  "language_info": {
   "codemirror_mode": {
    "name": "ipython",
    "version": 3
   },
   "file_extension": ".py",
   "mimetype": "text/x-python",
   "name": "python",
   "nbconvert_exporter": "python",
   "pygments_lexer": "ipython3",
   "version": "3.9.12"
  }
 },
 "nbformat": 4,
 "nbformat_minor": 5
}

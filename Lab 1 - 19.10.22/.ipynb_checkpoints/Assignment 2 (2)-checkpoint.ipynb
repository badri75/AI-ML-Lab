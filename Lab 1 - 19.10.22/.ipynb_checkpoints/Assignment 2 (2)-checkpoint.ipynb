{
 "cells": [
  {
   "cell_type": "markdown",
   "id": "1380f464",
   "metadata": {},
   "source": [
    "### Exercise 2"
   ]
  },
  {
   "cell_type": "markdown",
   "id": "6d928f7e",
   "metadata": {},
   "source": [
    "#### DATA PREPRATION"
   ]
  },
  {
   "cell_type": "markdown",
   "id": "7ba43fe0",
   "metadata": {},
   "source": [
    "### Catalog 1"
   ]
  },
  {
   "cell_type": "code",
   "execution_count": 2,
   "id": "9f6f3056",
   "metadata": {},
   "outputs": [
    {
     "name": "stdout",
     "output_type": "stream",
     "text": [
      "   id        first       last  gender  Marks  selected\n",
      "0   1        Leone    Debrick  Female     50      True\n",
      "1   2       Romola  Phinnessy  Female     60     False\n",
      "2   3         Geri      Prium    Male     65     False\n",
      "3   4        Sandy   Doveston  Female     95     False\n",
      "4   5      Jacenta     Jansik  Female     31      True\n",
      "5   6  Diane-marie   Medhurst  Female     45      True\n",
      "6   7       Austen       Pool    Male     45      True\n",
      "7   8        Vanya    Teffrey    Male     70     False\n",
      "8   9     Giordano      Elloy    Male     36     False\n",
      "9  10       Rozele    Fawcett  Female     50     False\n"
     ]
    }
   ],
   "source": [
    "import pandas as pd\n",
    "col_list=[\"id\",\"first\",\"last\",\"gender\",\"Marks\",\"selected\"]\n",
    "df=pd.read_csv(\"C:/Users/admin/Desktop/2021179045/SampleDB.csv\",usecols=col_list)\n",
    "print(df)"
   ]
  },
  {
   "cell_type": "code",
   "execution_count": 3,
   "id": "fdc86e09",
   "metadata": {},
   "outputs": [
    {
     "name": "stdout",
     "output_type": "stream",
     "text": [
      "   id        first       last  gender  Marks  selected\n",
      "0   1        Leone    Debrick       0     50      True\n",
      "1   2       Romola  Phinnessy       0     60     False\n",
      "2   3         Geri      Prium       1     65     False\n",
      "3   4        Sandy   Doveston       0     95     False\n",
      "4   5      Jacenta     Jansik       0     31      True\n",
      "5   6  Diane-marie   Medhurst       0     45      True\n",
      "6   7       Austen       Pool       1     45      True\n",
      "7   8        Vanya    Teffrey       1     70     False\n",
      "8   9     Giordano      Elloy       1     36     False\n",
      "9  10       Rozele    Fawcett       0     50     False\n",
      "End of listing\n",
      "\n",
      "\n",
      "\n"
     ]
    }
   ],
   "source": [
    "from sklearn.preprocessing import LabelEncoder\n",
    "\n",
    "df_gender_encode=LabelEncoder()\n",
    "df.gender=df_gender_encode.fit_transform(df.gender)\n",
    "#one can observe that female is coded as 0 and male as 1\n",
    "print(df)\n",
    "print(\"End of listing\\n\\n\\n\")\n"
   ]
  },
  {
   "cell_type": "code",
   "execution_count": 6,
   "id": "d5f6c072",
   "metadata": {},
   "outputs": [
    {
     "name": "stdout",
     "output_type": "stream",
     "text": [
      "<class 'pandas.core.series.Series'>\n",
      "<class 'numpy.ndarray'>\n",
      "   id        first       last  gender     Marks  selected\n",
      "0   1        Leone    Debrick  Female -0.265401      True\n",
      "1   2       Romola  Phinnessy  Female  0.299282     False\n",
      "2   3         Geri      Prium    Male  0.581624     False\n",
      "3   4        Sandy   Doveston  Female  2.275674     False\n",
      "4   5      Jacenta     Jansik  Female -1.338300      True\n",
      "5   6  Diane-marie   Medhurst  Female -0.547743      True\n",
      "6   7       Austen       Pool    Male -0.547743      True\n",
      "7   8        Vanya    Teffrey    Male  0.863966     False\n",
      "8   9     Giordano      Elloy    Male -1.055958     False\n",
      "9  10       Rozele    Fawcett  Female -0.265401     False\n",
      "Binarization of marks is completed \n",
      "\n",
      "\n",
      "\n",
      "\n"
     ]
    }
   ],
   "source": [
    "#now one can scale marks to remove mean\n",
    "\n",
    "from sklearn import preprocessing\n",
    "df.Marks=preprocessing.scale(df.Marks)\n",
    "# print(type(df.Marks))\n",
    "scaled_df=preprocessing.scale(df.Marks)\n",
    "# print(type(scaled_df))\n",
    "print(df)\n",
    "print(\"Binarization of marks is completed \\n\\n\\n\\n\")"
   ]
  },
  {
   "cell_type": "code",
   "execution_count": 9,
   "id": "c56a9335",
   "metadata": {},
   "outputs": [
    {
     "name": "stdout",
     "output_type": "stream",
     "text": [
      "<class 'numpy.ndarray'>\n",
      "   id        first       last  gender  Marks  selected\n",
      "0   1        Leone    Debrick  Female    0.0      True\n",
      "1   2       Romola  Phinnessy  Female    0.0     False\n",
      "2   3         Geri      Prium    Male    1.0     False\n",
      "3   4        Sandy   Doveston  Female    1.0     False\n",
      "4   5      Jacenta     Jansik  Female    0.0      True\n",
      "5   6  Diane-marie   Medhurst  Female    0.0      True\n",
      "6   7       Austen       Pool    Male    0.0      True\n",
      "7   8        Vanya    Teffrey    Male    1.0     False\n",
      "8   9     Giordano      Elloy    Male    0.0     False\n",
      "9  10       Rozele    Fawcett  Female    0.0     False\n",
      "\n",
      " Binarixation of marks is completed\n",
      "\n",
      "\n"
     ]
    }
   ],
   "source": [
    "newarr=scaled_df.reshape(-1,1)\n",
    "print(type(newarr))\n",
    "scaled_df_bin=preprocessing.Binarizer(threshold=0.5).transform(newarr)\n",
    "df['Marks']=scaled_df_bin\n",
    "print(df)\n",
    "print(\"\\n Binarixation of marks is completed\\n\\n\")"
   ]
  },
  {
   "cell_type": "markdown",
   "id": "71b3cdf1",
   "metadata": {},
   "source": [
    "### Catalog 2"
   ]
  },
  {
   "cell_type": "code",
   "execution_count": 6,
   "id": "1b47d14a",
   "metadata": {},
   "outputs": [
    {
     "name": "stdout",
     "output_type": "stream",
     "text": [
      "   id        first       last  gender  Marks  selected\n",
      "0   1        Leone    Debrick  Female     50      True\n",
      "1   2       Romola  Phinnessy  Female     60     False\n",
      "2   3         Geri      Prium    Male     65     False\n",
      "3   4        Sandy   Doveston  Female     95     False\n",
      "4   5      Jacenta     Jansik  Female     31      True\n",
      "5   6  Diane-marie   Medhurst  Female     45      True\n",
      "6   7       Austen       Pool    Male     45      True\n",
      "7   8        Vanya    Teffrey    Male     70     False\n",
      "8   9     Giordano      Elloy    Male     36     False\n",
      "9  10       Rozele    Fawcett  Female     50     False\n"
     ]
    }
   ],
   "source": [
    "import pandas as pd\n",
    "col_list=[\"id\",\"first\",\"last\",\"gender\",\"Marks\",\"selected\"]\n",
    "df=pd.read_csv(\"C:/Users/admin/Desktop/2021179045/SampleDB.csv\",usecols=col_list)\n",
    "print(df)"
   ]
  },
  {
   "cell_type": "code",
   "execution_count": 3,
   "id": "12786f9b",
   "metadata": {},
   "outputs": [
    {
     "name": "stdout",
     "output_type": "stream",
     "text": [
      "    id        first       last  gender  Marks  selected\n",
      "0    1        Leone    Debrick  Female     50      True\n",
      "1    2       Romola  Phinnessy  Female     60     False\n",
      "2    3         Geri      Prium    Male     65     False\n",
      "3    4        Sandy   Doveston  Female     95     False\n",
      "4    5      Jacenta     Jansik  Female     31      True\n",
      "5    6  Diane-marie   Medhurst  Female     45      True\n",
      "6    7       Austen       Pool    Male     45      True\n",
      "7    8        Vanya    Teffrey    Male     70     False\n",
      "8    9     Giordano      Elloy    Male     36     False\n",
      "9   10       Rozele    Fawcett  Female     50     False\n",
      "10   1        Leone    Debrick  Female     50      True\n",
      "11   2       Romola  Phinnessy  Female     60     False\n",
      "12   3         Geri      Prium    Male     65     False\n",
      "13   4        Sandy   Doveston  Female     95     False\n",
      "14   5      Jacenta     Jansik  Female     31      True\n",
      "15   6  Diane-marie   Medhurst  Female     45      True\n",
      "16   7       Austen       Pool    Male     45      True\n",
      "17   8        Vanya    Teffrey    Male     70     False\n",
      "18   9     Giordano      Elloy    Male     36     False\n",
      "19  10       Rozele    Fawcett  Female     50     False\n",
      "\n",
      " Display before duplication \n",
      "\n",
      "   id        first       last  gender  Marks  selected\n",
      "0   1        Leone    Debrick  Female     50      True\n",
      "1   2       Romola  Phinnessy  Female     60     False\n",
      "2   3         Geri      Prium    Male     65     False\n",
      "3   4        Sandy   Doveston  Female     95     False\n",
      "4   5      Jacenta     Jansik  Female     31      True\n",
      "5   6  Diane-marie   Medhurst  Female     45      True\n",
      "6   7       Austen       Pool    Male     45      True\n",
      "7   8        Vanya    Teffrey    Male     70     False\n",
      "8   9     Giordano      Elloy    Male     36     False\n",
      "9  10       Rozele    Fawcett  Female     50     False\n",
      "\n",
      " Display after duplication \n",
      "\n"
     ]
    }
   ],
   "source": [
    "#let us create duplicate elementsin the given dataset\n",
    "#this is done using the command concate 2 times as given below\n",
    "import pandas as pd\n",
    "col_list=[\"id\",\"first\",\"last\",\"gender\",\"Marks\",\"selected\"]\n",
    "df=pd.read_csv(\"C:/Users/admin/Desktop/2021179045/SampleDB.csv\",usecols=col_list)\n",
    "\n",
    "df_duplicated=pd.concat([df]*2,ignore_index=True)\n",
    "print(df_duplicated)\n",
    "\n",
    "print(\"\\n Display before duplication \\n\")\n",
    "\n",
    "df_duplicates_removed=pd.DataFrame.drop_duplicates(df_duplicated)\n",
    "print(df_duplicates_removed)\n",
    "\n",
    "print(\"\\n Display after duplication \\n\")"
   ]
  },
  {
   "cell_type": "markdown",
   "id": "102b9306",
   "metadata": {},
   "source": [
    "### Catalog 3"
   ]
  },
  {
   "cell_type": "code",
   "execution_count": 12,
   "id": "bdd3add7",
   "metadata": {},
   "outputs": [
    {
     "name": "stdout",
     "output_type": "stream",
     "text": [
      "     m1    m2    m3    m4    m5\n",
      "0  50.0  60.0  50.0  60.0   NaN\n",
      "1   NaN   NaN  70.0   NaN   NaN\n",
      "2  60.0  60.0   NaN   NaN   NaN\n",
      "3   NaN   NaN   NaN   NaN  10.0\n",
      "4  80.0  80.0  60.0  60.0  20.0\n",
      "Dataframe with NaN \n",
      "\n",
      "\n",
      "     m1    m2    m3    m4    m5\n",
      "0  50.0  60.0  50.0  60.0   0.0\n",
      "1   NaN   NaN  70.0   NaN   0.0\n",
      "2  60.0  60.0   NaN   NaN   0.0\n",
      "3   NaN   NaN   NaN   NaN  10.0\n",
      "4  80.0  80.0  60.0  60.0  20.0\n",
      "Marking m5 NaN as 0 using fillna() function \n",
      "\n",
      "     m1         m2    m3    m4    m5\n",
      "0  50.0  60.000000  50.0  60.0   0.0\n",
      "1   NaN  66.666667  70.0   NaN   0.0\n",
      "2  60.0  60.000000   NaN   NaN   0.0\n",
      "3   NaN  66.666667   NaN   NaN  10.0\n",
      "4  80.0  80.000000  60.0  60.0  20.0\n",
      "marking m5 NaN as mean using fillna() function \n",
      "\n",
      "     m1    m2    m3    m4    m5\n",
      "0  50.0  60.0  50.0  60.0   0.0\n",
      "1   NaN   NaN  70.0   NaN   0.0\n",
      "2  60.0  60.0   NaN   NaN   0.0\n",
      "3   NaN   NaN   NaN   NaN  10.0\n",
      "4  80.0  80.0  60.0  60.0  20.0\n",
      "marking m5 NaN as median using fillna() function \n",
      "\n",
      "     m5\n",
      "0   0.0\n",
      "1   0.0\n",
      "2   0.0\n",
      "3  10.0\n",
      "4  20.0\n",
      "Dropping all columns having NaN \n",
      "\n",
      "\n"
     ]
    }
   ],
   "source": [
    "import pandas as pd\n",
    "df=pd.DataFrame({\n",
    "    'm1':[50,'A',60,'A',80],\n",
    "    'm2':[60,'A','60','A',80],\n",
    "    'm3':[50,70,'A','A',60],\n",
    "    'm4':[60,'A','A','A',60],\n",
    "    'm5':['A','A','A',10,20]\n",
    "})\n",
    "\n",
    "df=df.apply(pd.to_numeric,errors='coerce')\n",
    "\n",
    "print(df)\n",
    "\n",
    "print('Dataframe with NaN \\n\\n')\n",
    "#Make all the NaN in marks as zero\n",
    "df['m5']=df['m5'].fillna(0)\n",
    "print(df)\n",
    "print(\"Marking m5 NaN as 0 using fillna() function \\n\")\n",
    "\n",
    "df1=df.copy()\n",
    "df1['m2'].fillna(df1['m2'].mean(),inplace=True)\n",
    "print(df1)\n",
    "print(\"marking m5 NaN as mean using fillna() function \\n\")\n",
    "\n",
    "df2=df.copy()\n",
    "df1['m3'].fillna(df1['m2'].median(),inplace=True)\n",
    "print(df2)\n",
    "print(\"marking m5 NaN as median using fillna() function \\n\")\n",
    "\n",
    "#Dropping all columns having NaN\n",
    "df=df.dropna(axis=1)\n",
    "print(df)\n",
    "print(\"Dropping all columns having NaN \\n\\n\")"
   ]
  },
  {
   "cell_type": "markdown",
   "id": "ec287b3e",
   "metadata": {},
   "source": [
    "### Catalog 4"
   ]
  },
  {
   "cell_type": "code",
   "execution_count": 11,
   "id": "04809260",
   "metadata": {},
   "outputs": [
    {
     "name": "stdout",
     "output_type": "stream",
     "text": [
      "\n",
      " Original data\n",
      "[[1 3]\n",
      " [8 5]\n",
      " [6 7]\n",
      " [8 9]]\n",
      "\n",
      "\n",
      " the output of MinMax Scaling\n",
      "[[0.         0.        ]\n",
      " [1.         0.33333333]\n",
      " [0.71428571 0.66666667]\n",
      " [1.         1.        ]]\n",
      "\n",
      "\n",
      " the output of Standard Scaling as z-score\n",
      "[[-1.66003771 -1.34164079]\n",
      " [ 0.78633365 -0.4472136 ]\n",
      " [ 0.08737041  0.4472136 ]\n",
      " [ 0.78633365  1.34164079]]\n"
     ]
    }
   ],
   "source": [
    "#this catalog illustrates the use of MinMax scalling and standard scaling for finding z-scores\n",
    "\n",
    "from numpy import asarray\n",
    "from sklearn.preprocessing import MinMaxScaler\n",
    "from sklearn.preprocessing import StandardScaler\n",
    "\n",
    "data=asarray([[1,3],[8,5],[6,7],[8,9]])\n",
    "print(\"\\n Original data\")\n",
    "print(data)\n",
    "\n",
    "scaler1=MinMaxScaler()\n",
    "scaler2=StandardScaler()\n",
    "\n",
    "scaled1=scaler1.fit_transform(data)\n",
    "scaled2=scaler2.fit_transform(data)\n",
    "\n",
    "print(\"\\n\\n the output of MinMax Scaling\")\n",
    "print(scaled1)\n",
    "\n",
    "print(\"\\n\\n the output of Standard Scaling as z-score\")\n",
    "print(scaled2)\n"
   ]
  },
  {
   "cell_type": "code",
   "execution_count": null,
   "id": "fad6383e",
   "metadata": {},
   "outputs": [],
   "source": []
  }
 ],
 "metadata": {
  "kernelspec": {
   "display_name": "Python 3 (ipykernel)",
   "language": "python",
   "name": "python3"
  },
  "language_info": {
   "codemirror_mode": {
    "name": "ipython",
    "version": 3
   },
   "file_extension": ".py",
   "mimetype": "text/x-python",
   "name": "python",
   "nbconvert_exporter": "python",
   "pygments_lexer": "ipython3",
   "version": "3.9.12"
  }
 },
 "nbformat": 4,
 "nbformat_minor": 5
}

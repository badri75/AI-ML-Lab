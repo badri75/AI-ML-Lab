{
 "cells": [
  {
   "cell_type": "code",
   "execution_count": 8,
   "id": "4fb627a5",
   "metadata": {},
   "outputs": [
    {
     "data": {
      "text/html": [
       "<div>\n",
       "<style scoped>\n",
       "    .dataframe tbody tr th:only-of-type {\n",
       "        vertical-align: middle;\n",
       "    }\n",
       "\n",
       "    .dataframe tbody tr th {\n",
       "        vertical-align: top;\n",
       "    }\n",
       "\n",
       "    .dataframe thead th {\n",
       "        text-align: right;\n",
       "    }\n",
       "</style>\n",
       "<table border=\"1\" class=\"dataframe\">\n",
       "  <thead>\n",
       "    <tr style=\"text-align: right;\">\n",
       "      <th></th>\n",
       "      <th>objects</th>\n",
       "      <th>x</th>\n",
       "      <th>y</th>\n",
       "    </tr>\n",
       "  </thead>\n",
       "  <tbody>\n",
       "    <tr>\n",
       "      <th>0</th>\n",
       "      <td>0</td>\n",
       "      <td>1</td>\n",
       "      <td>4</td>\n",
       "    </tr>\n",
       "    <tr>\n",
       "      <th>1</th>\n",
       "      <td>1</td>\n",
       "      <td>2</td>\n",
       "      <td>8</td>\n",
       "    </tr>\n",
       "    <tr>\n",
       "      <th>2</th>\n",
       "      <td>2</td>\n",
       "      <td>5</td>\n",
       "      <td>10</td>\n",
       "    </tr>\n",
       "    <tr>\n",
       "      <th>3</th>\n",
       "      <td>3</td>\n",
       "      <td>12</td>\n",
       "      <td>18</td>\n",
       "    </tr>\n",
       "    <tr>\n",
       "      <th>4</th>\n",
       "      <td>4</td>\n",
       "      <td>14</td>\n",
       "      <td>28</td>\n",
       "    </tr>\n",
       "  </tbody>\n",
       "</table>\n",
       "</div>"
      ],
      "text/plain": [
       "   objects   x   y\n",
       "0        0   1   4\n",
       "1        1   2   8\n",
       "2        2   5  10\n",
       "3        3  12  18\n",
       "4        4  14  28"
      ]
     },
     "execution_count": 8,
     "metadata": {},
     "output_type": "execute_result"
    }
   ],
   "source": [
    "import pandas as pd\n",
    "data = pd.read_csv(\"Dataset/Single Linkage.csv\")\n",
    "data"
   ]
  },
  {
   "cell_type": "code",
   "execution_count": 15,
   "id": "0120c9d4",
   "metadata": {},
   "outputs": [
    {
     "data": {
      "text/plain": [
       "<matplotlib.collections.PathCollection at 0x26331429490>"
      ]
     },
     "execution_count": 15,
     "metadata": {},
     "output_type": "execute_result"
    },
    {
     "data": {
      "image/png": "[encoded data removed]",
      "text/plain": [
       "<Figure size 432x288 with 1 Axes>"
      ]
     },
     "metadata": {
      "needs_background": "light"
     },
     "output_type": "display_data"
    }
   ],
   "source": [
    "plt.scatter(data['x'],data['y'])"
   ]
  },
  {
   "cell_type": "code",
   "execution_count": 14,
   "id": "8412a025",
   "metadata": {},
   "outputs": [
    {
     "data": {
      "text/html": [
       "<div>\n",
       "<style scoped>\n",
       "    .dataframe tbody tr th:only-of-type {\n",
       "        vertical-align: middle;\n",
       "    }\n",
       "\n",
       "    .dataframe tbody tr th {\n",
       "        vertical-align: top;\n",
       "    }\n",
       "\n",
       "    .dataframe thead th {\n",
       "        text-align: right;\n",
       "    }\n",
       "</style>\n",
       "<table border=\"1\" class=\"dataframe\">\n",
       "  <thead>\n",
       "    <tr style=\"text-align: right;\">\n",
       "      <th></th>\n",
       "      <th>0</th>\n",
       "      <th>1</th>\n",
       "      <th>2</th>\n",
       "      <th>3</th>\n",
       "      <th>4</th>\n",
       "    </tr>\n",
       "  </thead>\n",
       "  <tbody>\n",
       "    <tr>\n",
       "      <th>0</th>\n",
       "      <td>0.000000</td>\n",
       "      <td>4.123106</td>\n",
       "      <td>7.211103</td>\n",
       "      <td>17.804494</td>\n",
       "      <td>27.294688</td>\n",
       "    </tr>\n",
       "    <tr>\n",
       "      <th>1</th>\n",
       "      <td>4.123106</td>\n",
       "      <td>0.000000</td>\n",
       "      <td>3.605551</td>\n",
       "      <td>14.142136</td>\n",
       "      <td>23.323808</td>\n",
       "    </tr>\n",
       "    <tr>\n",
       "      <th>2</th>\n",
       "      <td>7.211103</td>\n",
       "      <td>3.605551</td>\n",
       "      <td>0.000000</td>\n",
       "      <td>10.630146</td>\n",
       "      <td>20.124612</td>\n",
       "    </tr>\n",
       "    <tr>\n",
       "      <th>3</th>\n",
       "      <td>17.804494</td>\n",
       "      <td>14.142136</td>\n",
       "      <td>10.630146</td>\n",
       "      <td>0.000000</td>\n",
       "      <td>10.198039</td>\n",
       "    </tr>\n",
       "    <tr>\n",
       "      <th>4</th>\n",
       "      <td>27.294688</td>\n",
       "      <td>23.323808</td>\n",
       "      <td>20.124612</td>\n",
       "      <td>10.198039</td>\n",
       "      <td>0.000000</td>\n",
       "    </tr>\n",
       "  </tbody>\n",
       "</table>\n",
       "</div>"
      ],
      "text/plain": [
       "           0          1          2          3          4\n",
       "0   0.000000   4.123106   7.211103  17.804494  27.294688\n",
       "1   4.123106   0.000000   3.605551  14.142136  23.323808\n",
       "2   7.211103   3.605551   0.000000  10.630146  20.124612\n",
       "3  17.804494  14.142136  10.630146   0.000000  10.198039\n",
       "4  27.294688  23.323808  20.124612  10.198039   0.000000"
      ]
     },
     "execution_count": 14,
     "metadata": {},
     "output_type": "execute_result"
    }
   ],
   "source": [
    "from scipy.spatial.distance import squareform, pdist\n",
    "dist = pd.DataFrame(squareform(pdist(data[['x', 'y']]), 'euclidean'), columns=data.index.values, index=data.index.values)\n",
    "dist"
   ]
  },
  {
   "cell_type": "code",
   "execution_count": 17,
   "id": "3f15e974",
   "metadata": {},
   "outputs": [],
   "source": [
    "def single_distance(clusters ,cluster_num):\n",
    "    print('first cluster | ','second cluster | ', 'distance')\n",
    "    while len(clusters) is not cluster_num:\n",
    "        # Clustering           (\n",
    "        closest_distance=clust_1=clust_2 = math.inf\n",
    "        # for every cluster (until second last element)\n",
    "        for cluster_id, cluster in enumerate(clusters[:len(clusters)]): \n",
    "            # for each point in each cluster\n",
    "            for point_id,point in enumerate(cluster): \n",
    "                # we only need to compare with clusters after the current one\n",
    "                for cluster2_id, cluster2 in enumerate(clusters[(cluster_id+1):]): \n",
    "                    # go through every point in this prospective cluster as well\n",
    "                    for point2_id, point2 in enumerate(cluster2):\n",
    "# if this distance is better than our previous best distance then we are going to overwrite it\n",
    "                        if distance.euclidean(point,point2) < closest_distance: \n",
    "                            # Only used for comparing \n",
    "                            closest_distance = distance.euclidean(point,point2)\n",
    "                # this will be used at the end to figure out which cluster to merge with which\n",
    "                            clust_1 = cluster_id\n",
    "                # this cluster will be destroyed by the end\n",
    "                            clust_2 = cluster2_id+cluster_id+1\n",
    "               # extend just appends the contents to the list without flattening it out\n",
    "        print(clust_1,' | ',clust_2, ' | ',closest_distance)\n",
    "        clusters[clust_1].extend(clusters[clust_2]) \n",
    "        # don't need this index anymore, and we have just clustered once more\n",
    "        clusters.pop(clust_2) \n",
    "    return(clusters)"
   ]
  },
  {
   "cell_type": "code",
   "execution_count": 22,
   "id": "0a052129",
   "metadata": {},
   "outputs": [
    {
     "name": "stderr",
     "output_type": "stream",
     "text": [
      "<>:7: SyntaxWarning: \"is\" with a literal. Did you mean \"==\"?\n",
      "<>:7: SyntaxWarning: \"is\" with a literal. Did you mean \"==\"?\n",
      "C:\\Users\\admin\\AppData\\Local\\Temp\\ipykernel_4676\\3642554651.py:7: SyntaxWarning: \"is\" with a literal. Did you mean \"==\"?\n",
      "  if metric is 'single':\n"
     ]
    }
   ],
   "source": [
    "### Hierarchical clustering\n",
    "def hierarchical(data, cluster_num, metric = 'single'):\n",
    "    # initialization of clusters at first (every point is a cluster)\n",
    "    init_clusters=[]\n",
    "    for index, row in data.iterrows():\n",
    "        init_clusters.append([[row['x'], row['y']]])\n",
    "    if metric is 'single':\n",
    "        return single_distance(init_clusters, cluster_num)"
   ]
  },
  {
   "cell_type": "code",
   "execution_count": 25,
   "id": "58b132c5",
   "metadata": {},
   "outputs": [
    {
     "name": "stdout",
     "output_type": "stream",
     "text": [
      "first cluster |  second cluster |  distance\n",
      "1  |  2  |  3.605551275463989\n"
     ]
    },
    {
     "data": {
      "image/png": "[encoded data removed]",
      "text/plain": [
       "<Figure size 432x288 with 1 Axes>"
      ]
     },
     "metadata": {
      "needs_background": "light"
     },
     "output_type": "display_data"
    }
   ],
   "source": [
    "import math\n",
    "from scipy.spatial import distance\n",
    "clusters = hierarchical(data,4)\n",
    "colors = ['blue', 'red', 'purple', 'teal']\n",
    "for cluster_index, cluster in enumerate(clusters):\n",
    "    for point_index, point in enumerate(cluster):\n",
    "        plt.plot([point[0]], [point[1]], marker='o', markersize=3, color=colors[cluster_index])"
   ]
  },
  {
   "cell_type": "code",
   "execution_count": null,
   "id": "3faffcd8",
   "metadata": {},
   "outputs": [],
   "source": []
  }
 ],
 "metadata": {
  "kernelspec": {
   "display_name": "Python 3 (ipykernel)",
   "language": "python",
   "name": "python3"
  },
  "language_info": {
   "codemirror_mode": {
    "name": "ipython",
    "version": 3
   },
   "file_extension": ".py",
   "mimetype": "text/x-python",
   "name": "python",
   "nbconvert_exporter": "python",
   "pygments_lexer": "ipython3",
   "version": "3.9.12"
  }
 },
 "nbformat": 4,
 "nbformat_minor": 5
}

{
 "cells": [
  {
   "cell_type": "markdown",
   "metadata": {},
   "source": [
    "DECISION TREE CLASSIFIER"
   ]
  },
  {
   "cell_type": "code",
   "execution_count": 27,
   "metadata": {},
   "outputs": [
    {
     "data": {
      "text/html": [
       "<div>\n",
       "<style scoped>\n",
       "    .dataframe tbody tr th:only-of-type {\n",
       "        vertical-align: middle;\n",
       "    }\n",
       "\n",
       "    .dataframe tbody tr th {\n",
       "        vertical-align: top;\n",
       "    }\n",
       "\n",
       "    .dataframe thead th {\n",
       "        text-align: right;\n",
       "    }\n",
       "</style>\n",
       "<table border=\"1\" class=\"dataframe\">\n",
       "  <thead>\n",
       "    <tr style=\"text-align: right;\">\n",
       "      <th></th>\n",
       "      <th>CGPA</th>\n",
       "      <th>Interactiveness</th>\n",
       "      <th>Practical Knowledge</th>\n",
       "      <th>Communication Skills</th>\n",
       "      <th>Job Offer</th>\n",
       "    </tr>\n",
       "  </thead>\n",
       "  <tbody>\n",
       "    <tr>\n",
       "      <th>0</th>\n",
       "      <td>&gt;=9</td>\n",
       "      <td>Yes</td>\n",
       "      <td>Very Good</td>\n",
       "      <td>Good</td>\n",
       "      <td>Yes</td>\n",
       "    </tr>\n",
       "    <tr>\n",
       "      <th>1</th>\n",
       "      <td>&gt;=8</td>\n",
       "      <td>No</td>\n",
       "      <td>Good</td>\n",
       "      <td>Moderate</td>\n",
       "      <td>Yes</td>\n",
       "    </tr>\n",
       "    <tr>\n",
       "      <th>2</th>\n",
       "      <td>&gt;=9</td>\n",
       "      <td>No</td>\n",
       "      <td>Average</td>\n",
       "      <td>Poor</td>\n",
       "      <td>No</td>\n",
       "    </tr>\n",
       "    <tr>\n",
       "      <th>3</th>\n",
       "      <td>&lt;8</td>\n",
       "      <td>No</td>\n",
       "      <td>Average</td>\n",
       "      <td>Good</td>\n",
       "      <td>No</td>\n",
       "    </tr>\n",
       "    <tr>\n",
       "      <th>4</th>\n",
       "      <td>&gt;=8</td>\n",
       "      <td>Yes</td>\n",
       "      <td>Good</td>\n",
       "      <td>Moderate</td>\n",
       "      <td>Yes</td>\n",
       "    </tr>\n",
       "    <tr>\n",
       "      <th>5</th>\n",
       "      <td>&gt;=9</td>\n",
       "      <td>Yes</td>\n",
       "      <td>Good</td>\n",
       "      <td>Moderate</td>\n",
       "      <td>Yes</td>\n",
       "    </tr>\n",
       "    <tr>\n",
       "      <th>6</th>\n",
       "      <td>&lt;8</td>\n",
       "      <td>Yes</td>\n",
       "      <td>Good</td>\n",
       "      <td>Poor</td>\n",
       "      <td>No</td>\n",
       "    </tr>\n",
       "    <tr>\n",
       "      <th>7</th>\n",
       "      <td>&gt;=9</td>\n",
       "      <td>No</td>\n",
       "      <td>Very Good</td>\n",
       "      <td>Good</td>\n",
       "      <td>Yes</td>\n",
       "    </tr>\n",
       "    <tr>\n",
       "      <th>8</th>\n",
       "      <td>&gt;=8</td>\n",
       "      <td>Yes</td>\n",
       "      <td>Good</td>\n",
       "      <td>Good</td>\n",
       "      <td>Yes</td>\n",
       "    </tr>\n",
       "    <tr>\n",
       "      <th>9</th>\n",
       "      <td>&gt;=8</td>\n",
       "      <td>Yes</td>\n",
       "      <td>Average</td>\n",
       "      <td>Good</td>\n",
       "      <td>Yes</td>\n",
       "    </tr>\n",
       "  </tbody>\n",
       "</table>\n",
       "</div>"
      ],
      "text/plain": [
       "  CGPA Interactiveness Practical Knowledge Communication Skills Job Offer\n",
       "0  >=9             Yes           Very Good                 Good       Yes\n",
       "1  >=8              No                Good             Moderate       Yes\n",
       "2  >=9              No             Average                 Poor        No\n",
       "3   <8              No             Average                 Good        No\n",
       "4  >=8             Yes                Good             Moderate       Yes\n",
       "5  >=9             Yes                Good             Moderate       Yes\n",
       "6   <8             Yes                Good                 Poor        No\n",
       "7  >=9              No           Very Good                 Good       Yes\n",
       "8  >=8             Yes                Good                 Good       Yes\n",
       "9  >=8             Yes             Average                 Good       Yes"
      ]
     },
     "execution_count": 27,
     "metadata": {},
     "output_type": "execute_result"
    }
   ],
   "source": [
    "import pandas as pd\n",
    "df=pd.read_csv(\"Dataset/Decision Tree.csv\")\n",
    "df"
   ]
  },
  {
   "cell_type": "code",
   "execution_count": 28,
   "metadata": {},
   "outputs": [
    {
     "data": {
      "text/plain": [
       "0.8812908992306927"
      ]
     },
     "execution_count": 28,
     "metadata": {},
     "output_type": "execute_result"
    }
   ],
   "source": [
    "import math\n",
    "def entropy1(df):\n",
    "    entropy1=0\n",
    "    yes=df[df['Job Offer']=='Yes'].value_counts().sum()\n",
    "    no=df[df['Job Offer']=='No'].value_counts().sum()\n",
    "    entropy1=-(yes/len(df)*math.log2(yes/len(df)))-(no/len(df)*math.log2(no/len(df)))\n",
    "    return entropy1\n",
    "gain=entropy1(df)\n",
    "gain\n"
   ]
  },
  {
   "cell_type": "code",
   "execution_count": 29,
   "metadata": {},
   "outputs": [],
   "source": [
    "#entropy for cgpa\n",
    "def entropy2(df,attribute):\n",
    "    entropy2=0\n",
    "    values=df[attribute].value_counts()\n",
    "    # print(values)\n",
    "    for value in values.index:\n",
    "        # print(\"values.index\",values.index)\n",
    "        yes=df[df['Job Offer']=='Yes'][df[attribute]==value].value_counts().sum()\n",
    "        no=df[df['Job Offer']=='No'][df[attribute]==value].value_counts().sum()\n",
    "        # print(yes,no,attribute,value)\n",
    "        if yes==0 or no==0:\n",
    "            entropy2+=0\n",
    "        elif yes==no:\n",
    "            entropy2+=((yes+no)/len(df))*1\n",
    "        else:\n",
    "            entropy2+=((yes+no)/len(df))*(-(yes/(yes+no)*math.log2(yes/(yes+no)))-(no/(yes+no)*math.log2(no/(yes+no))))\n",
    "    return entropy2\n"
   ]
  },
  {
   "cell_type": "code",
   "execution_count": 30,
   "metadata": {},
   "outputs": [
    {
     "name": "stderr",
     "output_type": "stream",
     "text": [
      "C:\\Users\\rbadr\\AppData\\Local\\Temp\\ipykernel_2288\\788378482.py:8: UserWarning: Boolean Series key will be reindexed to match DataFrame index.\n",
      "  yes=df[df['Job Offer']=='Yes'][df[attribute]==value].value_counts().sum()\n",
      "C:\\Users\\rbadr\\AppData\\Local\\Temp\\ipykernel_2288\\788378482.py:9: UserWarning: Boolean Series key will be reindexed to match DataFrame index.\n",
      "  no=df[df['Job Offer']=='No'][df[attribute]==value].value_counts().sum()\n",
      "C:\\Users\\rbadr\\AppData\\Local\\Temp\\ipykernel_2288\\788378482.py:8: UserWarning: Boolean Series key will be reindexed to match DataFrame index.\n",
      "  yes=df[df['Job Offer']=='Yes'][df[attribute]==value].value_counts().sum()\n",
      "C:\\Users\\rbadr\\AppData\\Local\\Temp\\ipykernel_2288\\788378482.py:9: UserWarning: Boolean Series key will be reindexed to match DataFrame index.\n",
      "  no=df[df['Job Offer']=='No'][df[attribute]==value].value_counts().sum()\n",
      "C:\\Users\\rbadr\\AppData\\Local\\Temp\\ipykernel_2288\\788378482.py:8: UserWarning: Boolean Series key will be reindexed to match DataFrame index.\n",
      "  yes=df[df['Job Offer']=='Yes'][df[attribute]==value].value_counts().sum()\n",
      "C:\\Users\\rbadr\\AppData\\Local\\Temp\\ipykernel_2288\\788378482.py:9: UserWarning: Boolean Series key will be reindexed to match DataFrame index.\n",
      "  no=df[df['Job Offer']=='No'][df[attribute]==value].value_counts().sum()\n"
     ]
    },
    {
     "data": {
      "text/plain": [
       "0.5567796494470396"
      ]
     },
     "execution_count": 30,
     "metadata": {},
     "output_type": "execute_result"
    }
   ],
   "source": [
    "\n",
    "entropygain=gain-entropy2(df,'CGPA')\n",
    "entropygain\n"
   ]
  },
  {
   "cell_type": "code",
   "execution_count": 31,
   "metadata": {},
   "outputs": [
    {
     "name": "stderr",
     "output_type": "stream",
     "text": [
      "C:\\Users\\rbadr\\AppData\\Local\\Temp\\ipykernel_2288\\788378482.py:8: UserWarning: Boolean Series key will be reindexed to match DataFrame index.\n",
      "  yes=df[df['Job Offer']=='Yes'][df[attribute]==value].value_counts().sum()\n",
      "C:\\Users\\rbadr\\AppData\\Local\\Temp\\ipykernel_2288\\788378482.py:9: UserWarning: Boolean Series key will be reindexed to match DataFrame index.\n",
      "  no=df[df['Job Offer']=='No'][df[attribute]==value].value_counts().sum()\n",
      "C:\\Users\\rbadr\\AppData\\Local\\Temp\\ipykernel_2288\\788378482.py:8: UserWarning: Boolean Series key will be reindexed to match DataFrame index.\n",
      "  yes=df[df['Job Offer']=='Yes'][df[attribute]==value].value_counts().sum()\n",
      "C:\\Users\\rbadr\\AppData\\Local\\Temp\\ipykernel_2288\\788378482.py:9: UserWarning: Boolean Series key will be reindexed to match DataFrame index.\n",
      "  no=df[df['Job Offer']=='No'][df[attribute]==value].value_counts().sum()\n"
     ]
    },
    {
     "data": {
      "text/plain": [
       "0.09127744624168022"
      ]
     },
     "execution_count": 31,
     "metadata": {},
     "output_type": "execute_result"
    }
   ],
   "source": [
    "entropygainforinteract=gain-entropy2(df,'Interactiveness')\n",
    "entropygainforinteract"
   ]
  },
  {
   "cell_type": "code",
   "execution_count": 32,
   "metadata": {},
   "outputs": [
    {
     "name": "stderr",
     "output_type": "stream",
     "text": [
      "C:\\Users\\rbadr\\AppData\\Local\\Temp\\ipykernel_2288\\788378482.py:8: UserWarning: Boolean Series key will be reindexed to match DataFrame index.\n",
      "  yes=df[df['Job Offer']=='Yes'][df[attribute]==value].value_counts().sum()\n",
      "C:\\Users\\rbadr\\AppData\\Local\\Temp\\ipykernel_2288\\788378482.py:9: UserWarning: Boolean Series key will be reindexed to match DataFrame index.\n",
      "  no=df[df['Job Offer']=='No'][df[attribute]==value].value_counts().sum()\n",
      "C:\\Users\\rbadr\\AppData\\Local\\Temp\\ipykernel_2288\\788378482.py:8: UserWarning: Boolean Series key will be reindexed to match DataFrame index.\n",
      "  yes=df[df['Job Offer']=='Yes'][df[attribute]==value].value_counts().sum()\n",
      "C:\\Users\\rbadr\\AppData\\Local\\Temp\\ipykernel_2288\\788378482.py:9: UserWarning: Boolean Series key will be reindexed to match DataFrame index.\n",
      "  no=df[df['Job Offer']=='No'][df[attribute]==value].value_counts().sum()\n",
      "C:\\Users\\rbadr\\AppData\\Local\\Temp\\ipykernel_2288\\788378482.py:8: UserWarning: Boolean Series key will be reindexed to match DataFrame index.\n",
      "  yes=df[df['Job Offer']=='Yes'][df[attribute]==value].value_counts().sum()\n",
      "C:\\Users\\rbadr\\AppData\\Local\\Temp\\ipykernel_2288\\788378482.py:9: UserWarning: Boolean Series key will be reindexed to match DataFrame index.\n",
      "  no=df[df['Job Offer']=='No'][df[attribute]==value].value_counts().sum()\n"
     ]
    },
    {
     "data": {
      "text/plain": [
       "0.24483810157066466"
      ]
     },
     "execution_count": 32,
     "metadata": {},
     "output_type": "execute_result"
    }
   ],
   "source": [
    "entropygainforpk=gain-entropy2(df,'Practical Knowledge')\n",
    "entropygainforpk"
   ]
  },
  {
   "cell_type": "code",
   "execution_count": 33,
   "metadata": {},
   "outputs": [
    {
     "name": "stderr",
     "output_type": "stream",
     "text": [
      "C:\\Users\\rbadr\\AppData\\Local\\Temp\\ipykernel_2288\\788378482.py:8: UserWarning: Boolean Series key will be reindexed to match DataFrame index.\n",
      "  yes=df[df['Job Offer']=='Yes'][df[attribute]==value].value_counts().sum()\n",
      "C:\\Users\\rbadr\\AppData\\Local\\Temp\\ipykernel_2288\\788378482.py:9: UserWarning: Boolean Series key will be reindexed to match DataFrame index.\n",
      "  no=df[df['Job Offer']=='No'][df[attribute]==value].value_counts().sum()\n",
      "C:\\Users\\rbadr\\AppData\\Local\\Temp\\ipykernel_2288\\788378482.py:8: UserWarning: Boolean Series key will be reindexed to match DataFrame index.\n",
      "  yes=df[df['Job Offer']=='Yes'][df[attribute]==value].value_counts().sum()\n",
      "C:\\Users\\rbadr\\AppData\\Local\\Temp\\ipykernel_2288\\788378482.py:9: UserWarning: Boolean Series key will be reindexed to match DataFrame index.\n",
      "  no=df[df['Job Offer']=='No'][df[attribute]==value].value_counts().sum()\n",
      "C:\\Users\\rbadr\\AppData\\Local\\Temp\\ipykernel_2288\\788378482.py:8: UserWarning: Boolean Series key will be reindexed to match DataFrame index.\n",
      "  yes=df[df['Job Offer']=='Yes'][df[attribute]==value].value_counts().sum()\n",
      "C:\\Users\\rbadr\\AppData\\Local\\Temp\\ipykernel_2288\\788378482.py:9: UserWarning: Boolean Series key will be reindexed to match DataFrame index.\n",
      "  no=df[df['Job Offer']=='No'][df[attribute]==value].value_counts().sum()\n"
     ]
    },
    {
     "data": {
      "text/plain": [
       "0.5203268517870115"
      ]
     },
     "execution_count": 33,
     "metadata": {},
     "output_type": "execute_result"
    }
   ],
   "source": [
    "entropygainforc=gain-entropy2(df,'Communication Skills')\n",
    "entropygainforc"
   ]
  },
  {
   "cell_type": "code",
   "execution_count": 34,
   "metadata": {},
   "outputs": [],
   "source": [
    "def bestattribute(df):\n",
    "    attributes=['CGPA','Interactiveness','Practical Knowledge','Communication Skills']\n",
    "    bestattribute=''\n",
    "    maxgain=0\n",
    "    for attribute in attributes:\n",
    "        entropy=entropy2(df,attribute)\n",
    "        gain=entropy1(df)-entropy\n",
    "        if gain>maxgain:\n",
    "            maxgain=gain\n",
    "            bestattribute=attribute\n",
    "    return bestattribute"
   ]
  },
  {
   "cell_type": "code",
   "execution_count": 35,
   "metadata": {},
   "outputs": [
    {
     "name": "stderr",
     "output_type": "stream",
     "text": [
      "C:\\Users\\rbadr\\AppData\\Local\\Temp\\ipykernel_2288\\788378482.py:8: UserWarning: Boolean Series key will be reindexed to match DataFrame index.\n",
      "  yes=df[df['Job Offer']=='Yes'][df[attribute]==value].value_counts().sum()\n",
      "C:\\Users\\rbadr\\AppData\\Local\\Temp\\ipykernel_2288\\788378482.py:9: UserWarning: Boolean Series key will be reindexed to match DataFrame index.\n",
      "  no=df[df['Job Offer']=='No'][df[attribute]==value].value_counts().sum()\n",
      "C:\\Users\\rbadr\\AppData\\Local\\Temp\\ipykernel_2288\\788378482.py:8: UserWarning: Boolean Series key will be reindexed to match DataFrame index.\n",
      "  yes=df[df['Job Offer']=='Yes'][df[attribute]==value].value_counts().sum()\n",
      "C:\\Users\\rbadr\\AppData\\Local\\Temp\\ipykernel_2288\\788378482.py:9: UserWarning: Boolean Series key will be reindexed to match DataFrame index.\n",
      "  no=df[df['Job Offer']=='No'][df[attribute]==value].value_counts().sum()\n",
      "C:\\Users\\rbadr\\AppData\\Local\\Temp\\ipykernel_2288\\788378482.py:8: UserWarning: Boolean Series key will be reindexed to match DataFrame index.\n",
      "  yes=df[df['Job Offer']=='Yes'][df[attribute]==value].value_counts().sum()\n",
      "C:\\Users\\rbadr\\AppData\\Local\\Temp\\ipykernel_2288\\788378482.py:9: UserWarning: Boolean Series key will be reindexed to match DataFrame index.\n",
      "  no=df[df['Job Offer']=='No'][df[attribute]==value].value_counts().sum()\n",
      "C:\\Users\\rbadr\\AppData\\Local\\Temp\\ipykernel_2288\\788378482.py:8: UserWarning: Boolean Series key will be reindexed to match DataFrame index.\n",
      "  yes=df[df['Job Offer']=='Yes'][df[attribute]==value].value_counts().sum()\n",
      "C:\\Users\\rbadr\\AppData\\Local\\Temp\\ipykernel_2288\\788378482.py:9: UserWarning: Boolean Series key will be reindexed to match DataFrame index.\n",
      "  no=df[df['Job Offer']=='No'][df[attribute]==value].value_counts().sum()\n",
      "C:\\Users\\rbadr\\AppData\\Local\\Temp\\ipykernel_2288\\788378482.py:8: UserWarning: Boolean Series key will be reindexed to match DataFrame index.\n",
      "  yes=df[df['Job Offer']=='Yes'][df[attribute]==value].value_counts().sum()\n",
      "C:\\Users\\rbadr\\AppData\\Local\\Temp\\ipykernel_2288\\788378482.py:9: UserWarning: Boolean Series key will be reindexed to match DataFrame index.\n",
      "  no=df[df['Job Offer']=='No'][df[attribute]==value].value_counts().sum()\n",
      "C:\\Users\\rbadr\\AppData\\Local\\Temp\\ipykernel_2288\\788378482.py:8: UserWarning: Boolean Series key will be reindexed to match DataFrame index.\n",
      "  yes=df[df['Job Offer']=='Yes'][df[attribute]==value].value_counts().sum()\n",
      "C:\\Users\\rbadr\\AppData\\Local\\Temp\\ipykernel_2288\\788378482.py:9: UserWarning: Boolean Series key will be reindexed to match DataFrame index.\n",
      "  no=df[df['Job Offer']=='No'][df[attribute]==value].value_counts().sum()\n",
      "C:\\Users\\rbadr\\AppData\\Local\\Temp\\ipykernel_2288\\788378482.py:8: UserWarning: Boolean Series key will be reindexed to match DataFrame index.\n",
      "  yes=df[df['Job Offer']=='Yes'][df[attribute]==value].value_counts().sum()\n",
      "C:\\Users\\rbadr\\AppData\\Local\\Temp\\ipykernel_2288\\788378482.py:9: UserWarning: Boolean Series key will be reindexed to match DataFrame index.\n",
      "  no=df[df['Job Offer']=='No'][df[attribute]==value].value_counts().sum()\n",
      "C:\\Users\\rbadr\\AppData\\Local\\Temp\\ipykernel_2288\\788378482.py:8: UserWarning: Boolean Series key will be reindexed to match DataFrame index.\n",
      "  yes=df[df['Job Offer']=='Yes'][df[attribute]==value].value_counts().sum()\n",
      "C:\\Users\\rbadr\\AppData\\Local\\Temp\\ipykernel_2288\\788378482.py:9: UserWarning: Boolean Series key will be reindexed to match DataFrame index.\n",
      "  no=df[df['Job Offer']=='No'][df[attribute]==value].value_counts().sum()\n",
      "C:\\Users\\rbadr\\AppData\\Local\\Temp\\ipykernel_2288\\788378482.py:8: UserWarning: Boolean Series key will be reindexed to match DataFrame index.\n",
      "  yes=df[df['Job Offer']=='Yes'][df[attribute]==value].value_counts().sum()\n",
      "C:\\Users\\rbadr\\AppData\\Local\\Temp\\ipykernel_2288\\788378482.py:9: UserWarning: Boolean Series key will be reindexed to match DataFrame index.\n",
      "  no=df[df['Job Offer']=='No'][df[attribute]==value].value_counts().sum()\n",
      "C:\\Users\\rbadr\\AppData\\Local\\Temp\\ipykernel_2288\\788378482.py:8: UserWarning: Boolean Series key will be reindexed to match DataFrame index.\n",
      "  yes=df[df['Job Offer']=='Yes'][df[attribute]==value].value_counts().sum()\n",
      "C:\\Users\\rbadr\\AppData\\Local\\Temp\\ipykernel_2288\\788378482.py:9: UserWarning: Boolean Series key will be reindexed to match DataFrame index.\n",
      "  no=df[df['Job Offer']=='No'][df[attribute]==value].value_counts().sum()\n",
      "C:\\Users\\rbadr\\AppData\\Local\\Temp\\ipykernel_2288\\788378482.py:8: UserWarning: Boolean Series key will be reindexed to match DataFrame index.\n",
      "  yes=df[df['Job Offer']=='Yes'][df[attribute]==value].value_counts().sum()\n",
      "C:\\Users\\rbadr\\AppData\\Local\\Temp\\ipykernel_2288\\788378482.py:9: UserWarning: Boolean Series key will be reindexed to match DataFrame index.\n",
      "  no=df[df['Job Offer']=='No'][df[attribute]==value].value_counts().sum()\n"
     ]
    },
    {
     "data": {
      "text/plain": [
       "'CGPA'"
      ]
     },
     "execution_count": 35,
     "metadata": {},
     "output_type": "execute_result"
    }
   ],
   "source": [
    "bestattribute(df)"
   ]
  },
  {
   "cell_type": "code",
   "execution_count": 36,
   "metadata": {},
   "outputs": [
    {
     "data": {
      "text/plain": [
       "array(['>=9', '>=8', '<8'], dtype=object)"
      ]
     },
     "execution_count": 36,
     "metadata": {},
     "output_type": "execute_result"
    }
   ],
   "source": [
    "#splitting the data\n",
    "def splitdata(df,attribute):\n",
    "    return df[attribute].unique()\n",
    "splitdata(df,'CGPA')"
   ]
  },
  {
   "cell_type": "code",
   "execution_count": 37,
   "metadata": {},
   "outputs": [],
   "source": [
    "import numpy as np"
   ]
  },
  {
   "cell_type": "code",
   "execution_count": 38,
   "metadata": {},
   "outputs": [],
   "source": [
    "#building the decision tree\n",
    "def buildtree(df,tree=None):\n",
    "    attribute=bestattribute(df)\n",
    "    if tree is None:\n",
    "        tree={}\n",
    "        tree[attribute]={}\n",
    "        print(\"tree\",tree)\n",
    "    for value in splitdata(df,attribute):\n",
    "        subtable=df[df[attribute]==value].reset_index(drop=True)\n",
    "        print(\"subtable\",subtable)\n",
    "        clvalue,counts=np.unique(subtable['Job Offer'],return_counts=True)\n",
    "        print(\"clvalue\",clvalue)\n",
    "        print(\"counts\",counts)\n",
    "        if len(counts)==1:\n",
    "            tree[attribute][value]=clvalue[0]\n",
    "            print(\"tree\",tree)\n",
    "        else:\n",
    "            tree[attribute][value]=buildtree(subtable)\n",
    "            print(\"tree\",tree)\n",
    "    return tree"
   ]
  },
  {
   "cell_type": "code",
   "execution_count": 39,
   "metadata": {},
   "outputs": [
    {
     "name": "stderr",
     "output_type": "stream",
     "text": [
      "C:\\Users\\rbadr\\AppData\\Local\\Temp\\ipykernel_2288\\788378482.py:8: UserWarning: Boolean Series key will be reindexed to match DataFrame index.\n",
      "  yes=df[df['Job Offer']=='Yes'][df[attribute]==value].value_counts().sum()\n",
      "C:\\Users\\rbadr\\AppData\\Local\\Temp\\ipykernel_2288\\788378482.py:9: UserWarning: Boolean Series key will be reindexed to match DataFrame index.\n",
      "  no=df[df['Job Offer']=='No'][df[attribute]==value].value_counts().sum()\n",
      "C:\\Users\\rbadr\\AppData\\Local\\Temp\\ipykernel_2288\\788378482.py:8: UserWarning: Boolean Series key will be reindexed to match DataFrame index.\n",
      "  yes=df[df['Job Offer']=='Yes'][df[attribute]==value].value_counts().sum()\n",
      "C:\\Users\\rbadr\\AppData\\Local\\Temp\\ipykernel_2288\\788378482.py:9: UserWarning: Boolean Series key will be reindexed to match DataFrame index.\n",
      "  no=df[df['Job Offer']=='No'][df[attribute]==value].value_counts().sum()\n",
      "C:\\Users\\rbadr\\AppData\\Local\\Temp\\ipykernel_2288\\788378482.py:8: UserWarning: Boolean Series key will be reindexed to match DataFrame index.\n",
      "  yes=df[df['Job Offer']=='Yes'][df[attribute]==value].value_counts().sum()\n",
      "C:\\Users\\rbadr\\AppData\\Local\\Temp\\ipykernel_2288\\788378482.py:9: UserWarning: Boolean Series key will be reindexed to match DataFrame index.\n",
      "  no=df[df['Job Offer']=='No'][df[attribute]==value].value_counts().sum()\n",
      "C:\\Users\\rbadr\\AppData\\Local\\Temp\\ipykernel_2288\\788378482.py:8: UserWarning: Boolean Series key will be reindexed to match DataFrame index.\n",
      "  yes=df[df['Job Offer']=='Yes'][df[attribute]==value].value_counts().sum()\n",
      "C:\\Users\\rbadr\\AppData\\Local\\Temp\\ipykernel_2288\\788378482.py:9: UserWarning: Boolean Series key will be reindexed to match DataFrame index.\n",
      "  no=df[df['Job Offer']=='No'][df[attribute]==value].value_counts().sum()\n",
      "C:\\Users\\rbadr\\AppData\\Local\\Temp\\ipykernel_2288\\788378482.py:8: UserWarning: Boolean Series key will be reindexed to match DataFrame index.\n",
      "  yes=df[df['Job Offer']=='Yes'][df[attribute]==value].value_counts().sum()\n",
      "C:\\Users\\rbadr\\AppData\\Local\\Temp\\ipykernel_2288\\788378482.py:9: UserWarning: Boolean Series key will be reindexed to match DataFrame index.\n",
      "  no=df[df['Job Offer']=='No'][df[attribute]==value].value_counts().sum()\n",
      "C:\\Users\\rbadr\\AppData\\Local\\Temp\\ipykernel_2288\\788378482.py:8: UserWarning: Boolean Series key will be reindexed to match DataFrame index.\n",
      "  yes=df[df['Job Offer']=='Yes'][df[attribute]==value].value_counts().sum()\n",
      "C:\\Users\\rbadr\\AppData\\Local\\Temp\\ipykernel_2288\\788378482.py:9: UserWarning: Boolean Series key will be reindexed to match DataFrame index.\n",
      "  no=df[df['Job Offer']=='No'][df[attribute]==value].value_counts().sum()\n",
      "C:\\Users\\rbadr\\AppData\\Local\\Temp\\ipykernel_2288\\788378482.py:8: UserWarning: Boolean Series key will be reindexed to match DataFrame index.\n",
      "  yes=df[df['Job Offer']=='Yes'][df[attribute]==value].value_counts().sum()\n",
      "C:\\Users\\rbadr\\AppData\\Local\\Temp\\ipykernel_2288\\788378482.py:9: UserWarning: Boolean Series key will be reindexed to match DataFrame index.\n",
      "  no=df[df['Job Offer']=='No'][df[attribute]==value].value_counts().sum()\n",
      "C:\\Users\\rbadr\\AppData\\Local\\Temp\\ipykernel_2288\\788378482.py:8: UserWarning: Boolean Series key will be reindexed to match DataFrame index.\n",
      "  yes=df[df['Job Offer']=='Yes'][df[attribute]==value].value_counts().sum()\n",
      "C:\\Users\\rbadr\\AppData\\Local\\Temp\\ipykernel_2288\\788378482.py:9: UserWarning: Boolean Series key will be reindexed to match DataFrame index.\n",
      "  no=df[df['Job Offer']=='No'][df[attribute]==value].value_counts().sum()\n",
      "C:\\Users\\rbadr\\AppData\\Local\\Temp\\ipykernel_2288\\788378482.py:8: UserWarning: Boolean Series key will be reindexed to match DataFrame index.\n",
      "  yes=df[df['Job Offer']=='Yes'][df[attribute]==value].value_counts().sum()\n",
      "C:\\Users\\rbadr\\AppData\\Local\\Temp\\ipykernel_2288\\788378482.py:9: UserWarning: Boolean Series key will be reindexed to match DataFrame index.\n",
      "  no=df[df['Job Offer']=='No'][df[attribute]==value].value_counts().sum()\n",
      "C:\\Users\\rbadr\\AppData\\Local\\Temp\\ipykernel_2288\\788378482.py:8: UserWarning: Boolean Series key will be reindexed to match DataFrame index.\n",
      "  yes=df[df['Job Offer']=='Yes'][df[attribute]==value].value_counts().sum()\n",
      "C:\\Users\\rbadr\\AppData\\Local\\Temp\\ipykernel_2288\\788378482.py:9: UserWarning: Boolean Series key will be reindexed to match DataFrame index.\n",
      "  no=df[df['Job Offer']=='No'][df[attribute]==value].value_counts().sum()\n",
      "C:\\Users\\rbadr\\AppData\\Local\\Temp\\ipykernel_2288\\788378482.py:8: UserWarning: Boolean Series key will be reindexed to match DataFrame index.\n",
      "  yes=df[df['Job Offer']=='Yes'][df[attribute]==value].value_counts().sum()\n",
      "C:\\Users\\rbadr\\AppData\\Local\\Temp\\ipykernel_2288\\788378482.py:9: UserWarning: Boolean Series key will be reindexed to match DataFrame index.\n",
      "  no=df[df['Job Offer']=='No'][df[attribute]==value].value_counts().sum()\n",
      "C:\\Users\\rbadr\\AppData\\Local\\Temp\\ipykernel_2288\\788378482.py:8: UserWarning: Boolean Series key will be reindexed to match DataFrame index.\n",
      "  yes=df[df['Job Offer']=='Yes'][df[attribute]==value].value_counts().sum()\n",
      "C:\\Users\\rbadr\\AppData\\Local\\Temp\\ipykernel_2288\\788378482.py:9: UserWarning: Boolean Series key will be reindexed to match DataFrame index.\n",
      "  no=df[df['Job Offer']=='No'][df[attribute]==value].value_counts().sum()\n",
      "C:\\Users\\rbadr\\AppData\\Local\\Temp\\ipykernel_2288\\788378482.py:8: UserWarning: Boolean Series key will be reindexed to match DataFrame index.\n",
      "  yes=df[df['Job Offer']=='Yes'][df[attribute]==value].value_counts().sum()\n",
      "C:\\Users\\rbadr\\AppData\\Local\\Temp\\ipykernel_2288\\788378482.py:9: UserWarning: Boolean Series key will be reindexed to match DataFrame index.\n",
      "  no=df[df['Job Offer']=='No'][df[attribute]==value].value_counts().sum()\n",
      "C:\\Users\\rbadr\\AppData\\Local\\Temp\\ipykernel_2288\\788378482.py:8: UserWarning: Boolean Series key will be reindexed to match DataFrame index.\n",
      "  yes=df[df['Job Offer']=='Yes'][df[attribute]==value].value_counts().sum()\n",
      "C:\\Users\\rbadr\\AppData\\Local\\Temp\\ipykernel_2288\\788378482.py:9: UserWarning: Boolean Series key will be reindexed to match DataFrame index.\n",
      "  no=df[df['Job Offer']=='No'][df[attribute]==value].value_counts().sum()\n",
      "C:\\Users\\rbadr\\AppData\\Local\\Temp\\ipykernel_2288\\788378482.py:8: UserWarning: Boolean Series key will be reindexed to match DataFrame index.\n",
      "  yes=df[df['Job Offer']=='Yes'][df[attribute]==value].value_counts().sum()\n",
      "C:\\Users\\rbadr\\AppData\\Local\\Temp\\ipykernel_2288\\788378482.py:9: UserWarning: Boolean Series key will be reindexed to match DataFrame index.\n",
      "  no=df[df['Job Offer']=='No'][df[attribute]==value].value_counts().sum()\n",
      "C:\\Users\\rbadr\\AppData\\Local\\Temp\\ipykernel_2288\\788378482.py:8: UserWarning: Boolean Series key will be reindexed to match DataFrame index.\n",
      "  yes=df[df['Job Offer']=='Yes'][df[attribute]==value].value_counts().sum()\n",
      "C:\\Users\\rbadr\\AppData\\Local\\Temp\\ipykernel_2288\\788378482.py:9: UserWarning: Boolean Series key will be reindexed to match DataFrame index.\n",
      "  no=df[df['Job Offer']=='No'][df[attribute]==value].value_counts().sum()\n",
      "C:\\Users\\rbadr\\AppData\\Local\\Temp\\ipykernel_2288\\788378482.py:8: UserWarning: Boolean Series key will be reindexed to match DataFrame index.\n",
      "  yes=df[df['Job Offer']=='Yes'][df[attribute]==value].value_counts().sum()\n",
      "C:\\Users\\rbadr\\AppData\\Local\\Temp\\ipykernel_2288\\788378482.py:9: UserWarning: Boolean Series key will be reindexed to match DataFrame index.\n",
      "  no=df[df['Job Offer']=='No'][df[attribute]==value].value_counts().sum()\n"
     ]
    },
    {
     "name": "stdout",
     "output_type": "stream",
     "text": [
      "tree {'CGPA': {}}\n",
      "subtable   CGPA Interactiveness Practical Knowledge Communication Skills Job Offer\n",
      "0  >=9             Yes           Very Good                 Good       Yes\n",
      "1  >=9              No             Average                 Poor        No\n",
      "2  >=9             Yes                Good             Moderate       Yes\n",
      "3  >=9              No           Very Good                 Good       Yes\n",
      "clvalue ['No' 'Yes']\n",
      "counts [1 3]\n",
      "tree {'Practical Knowledge': {}}\n",
      "subtable   CGPA Interactiveness Practical Knowledge Communication Skills Job Offer\n",
      "0  >=9             Yes           Very Good                 Good       Yes\n",
      "1  >=9              No           Very Good                 Good       Yes\n",
      "clvalue ['Yes']\n",
      "counts [2]\n",
      "tree {'Practical Knowledge': {'Very Good': 'Yes'}}\n",
      "subtable   CGPA Interactiveness Practical Knowledge Communication Skills Job Offer\n",
      "0  >=9              No             Average                 Poor        No\n",
      "clvalue ['No']\n",
      "counts [1]\n",
      "tree {'Practical Knowledge': {'Very Good': 'Yes', 'Average': 'No'}}\n",
      "subtable   CGPA Interactiveness Practical Knowledge Communication Skills Job Offer\n",
      "0  >=9             Yes                Good             Moderate       Yes\n",
      "clvalue ['Yes']\n",
      "counts [1]\n",
      "tree {'Practical Knowledge': {'Very Good': 'Yes', 'Average': 'No', 'Good': 'Yes'}}\n",
      "tree {'CGPA': {'>=9': {'Practical Knowledge': {'Very Good': 'Yes', 'Average': 'No', 'Good': 'Yes'}}}}\n",
      "subtable   CGPA Interactiveness Practical Knowledge Communication Skills Job Offer\n",
      "0  >=8              No                Good             Moderate       Yes\n",
      "1  >=8             Yes                Good             Moderate       Yes\n",
      "2  >=8             Yes                Good                 Good       Yes\n",
      "3  >=8             Yes             Average                 Good       Yes\n",
      "clvalue ['Yes']\n",
      "counts [4]\n",
      "tree {'CGPA': {'>=9': {'Practical Knowledge': {'Very Good': 'Yes', 'Average': 'No', 'Good': 'Yes'}}, '>=8': 'Yes'}}\n",
      "subtable   CGPA Interactiveness Practical Knowledge Communication Skills Job Offer\n",
      "0   <8              No             Average                 Good        No\n",
      "1   <8             Yes                Good                 Poor        No\n",
      "clvalue ['No']\n",
      "counts [2]\n",
      "tree {'CGPA': {'>=9': {'Practical Knowledge': {'Very Good': 'Yes', 'Average': 'No', 'Good': 'Yes'}}, '>=8': 'Yes', '<8': 'No'}}\n"
     ]
    },
    {
     "name": "stderr",
     "output_type": "stream",
     "text": [
      "C:\\Users\\rbadr\\AppData\\Local\\Temp\\ipykernel_2288\\788378482.py:8: UserWarning: Boolean Series key will be reindexed to match DataFrame index.\n",
      "  yes=df[df['Job Offer']=='Yes'][df[attribute]==value].value_counts().sum()\n",
      "C:\\Users\\rbadr\\AppData\\Local\\Temp\\ipykernel_2288\\788378482.py:9: UserWarning: Boolean Series key will be reindexed to match DataFrame index.\n",
      "  no=df[df['Job Offer']=='No'][df[attribute]==value].value_counts().sum()\n",
      "C:\\Users\\rbadr\\AppData\\Local\\Temp\\ipykernel_2288\\788378482.py:8: UserWarning: Boolean Series key will be reindexed to match DataFrame index.\n",
      "  yes=df[df['Job Offer']=='Yes'][df[attribute]==value].value_counts().sum()\n",
      "C:\\Users\\rbadr\\AppData\\Local\\Temp\\ipykernel_2288\\788378482.py:9: UserWarning: Boolean Series key will be reindexed to match DataFrame index.\n",
      "  no=df[df['Job Offer']=='No'][df[attribute]==value].value_counts().sum()\n",
      "C:\\Users\\rbadr\\AppData\\Local\\Temp\\ipykernel_2288\\788378482.py:8: UserWarning: Boolean Series key will be reindexed to match DataFrame index.\n",
      "  yes=df[df['Job Offer']=='Yes'][df[attribute]==value].value_counts().sum()\n",
      "C:\\Users\\rbadr\\AppData\\Local\\Temp\\ipykernel_2288\\788378482.py:9: UserWarning: Boolean Series key will be reindexed to match DataFrame index.\n",
      "  no=df[df['Job Offer']=='No'][df[attribute]==value].value_counts().sum()\n"
     ]
    },
    {
     "data": {
      "text/plain": [
       "{'CGPA': {'>=9': {'Practical Knowledge': {'Very Good': 'Yes',\n",
       "    'Average': 'No',\n",
       "    'Good': 'Yes'}},\n",
       "  '>=8': 'Yes',\n",
       "  '<8': 'No'}}"
      ]
     },
     "execution_count": 39,
     "metadata": {},
     "output_type": "execute_result"
    }
   ],
   "source": [
    "buildtree(df)"
   ]
  },
  {
   "cell_type": "code",
   "execution_count": 40,
   "metadata": {},
   "outputs": [],
   "source": [
    "def predict(inst,tree):\n",
    "    print(\"inside predict\")\n",
    "    for nodes in tree.keys():\n",
    "        print(\"tree.keys\",tree.keys())\n",
    "        value=inst[nodes]\n",
    "        print(\"value\",value)\n",
    "        tree=tree[nodes][value]\n",
    "        print(\"tree\",tree)\n",
    "        prediction=0\n",
    "        if type(tree) is dict:\n",
    "            print(\"inside if\",type(tree))\n",
    "            prediction=predict(inst,tree)\n",
    "        else:\n",
    "            prediction=tree\n",
    "            print(\"prediction\",prediction)\n",
    "            break\n",
    "    return prediction"
   ]
  },
  {
   "cell_type": "code",
   "execution_count": 41,
   "metadata": {},
   "outputs": [
    {
     "name": "stderr",
     "output_type": "stream",
     "text": [
      "C:\\Users\\rbadr\\AppData\\Local\\Temp\\ipykernel_2288\\788378482.py:8: UserWarning: Boolean Series key will be reindexed to match DataFrame index.\n",
      "  yes=df[df['Job Offer']=='Yes'][df[attribute]==value].value_counts().sum()\n",
      "C:\\Users\\rbadr\\AppData\\Local\\Temp\\ipykernel_2288\\788378482.py:9: UserWarning: Boolean Series key will be reindexed to match DataFrame index.\n",
      "  no=df[df['Job Offer']=='No'][df[attribute]==value].value_counts().sum()\n",
      "C:\\Users\\rbadr\\AppData\\Local\\Temp\\ipykernel_2288\\788378482.py:8: UserWarning: Boolean Series key will be reindexed to match DataFrame index.\n",
      "  yes=df[df['Job Offer']=='Yes'][df[attribute]==value].value_counts().sum()\n",
      "C:\\Users\\rbadr\\AppData\\Local\\Temp\\ipykernel_2288\\788378482.py:9: UserWarning: Boolean Series key will be reindexed to match DataFrame index.\n",
      "  no=df[df['Job Offer']=='No'][df[attribute]==value].value_counts().sum()\n",
      "C:\\Users\\rbadr\\AppData\\Local\\Temp\\ipykernel_2288\\788378482.py:8: UserWarning: Boolean Series key will be reindexed to match DataFrame index.\n",
      "  yes=df[df['Job Offer']=='Yes'][df[attribute]==value].value_counts().sum()\n",
      "C:\\Users\\rbadr\\AppData\\Local\\Temp\\ipykernel_2288\\788378482.py:9: UserWarning: Boolean Series key will be reindexed to match DataFrame index.\n",
      "  no=df[df['Job Offer']=='No'][df[attribute]==value].value_counts().sum()\n",
      "C:\\Users\\rbadr\\AppData\\Local\\Temp\\ipykernel_2288\\788378482.py:8: UserWarning: Boolean Series key will be reindexed to match DataFrame index.\n",
      "  yes=df[df['Job Offer']=='Yes'][df[attribute]==value].value_counts().sum()\n",
      "C:\\Users\\rbadr\\AppData\\Local\\Temp\\ipykernel_2288\\788378482.py:9: UserWarning: Boolean Series key will be reindexed to match DataFrame index.\n",
      "  no=df[df['Job Offer']=='No'][df[attribute]==value].value_counts().sum()\n",
      "C:\\Users\\rbadr\\AppData\\Local\\Temp\\ipykernel_2288\\788378482.py:8: UserWarning: Boolean Series key will be reindexed to match DataFrame index.\n",
      "  yes=df[df['Job Offer']=='Yes'][df[attribute]==value].value_counts().sum()\n",
      "C:\\Users\\rbadr\\AppData\\Local\\Temp\\ipykernel_2288\\788378482.py:9: UserWarning: Boolean Series key will be reindexed to match DataFrame index.\n",
      "  no=df[df['Job Offer']=='No'][df[attribute]==value].value_counts().sum()\n",
      "C:\\Users\\rbadr\\AppData\\Local\\Temp\\ipykernel_2288\\788378482.py:8: UserWarning: Boolean Series key will be reindexed to match DataFrame index.\n",
      "  yes=df[df['Job Offer']=='Yes'][df[attribute]==value].value_counts().sum()\n",
      "C:\\Users\\rbadr\\AppData\\Local\\Temp\\ipykernel_2288\\788378482.py:9: UserWarning: Boolean Series key will be reindexed to match DataFrame index.\n",
      "  no=df[df['Job Offer']=='No'][df[attribute]==value].value_counts().sum()\n",
      "C:\\Users\\rbadr\\AppData\\Local\\Temp\\ipykernel_2288\\788378482.py:8: UserWarning: Boolean Series key will be reindexed to match DataFrame index.\n",
      "  yes=df[df['Job Offer']=='Yes'][df[attribute]==value].value_counts().sum()\n",
      "C:\\Users\\rbadr\\AppData\\Local\\Temp\\ipykernel_2288\\788378482.py:9: UserWarning: Boolean Series key will be reindexed to match DataFrame index.\n",
      "  no=df[df['Job Offer']=='No'][df[attribute]==value].value_counts().sum()\n",
      "C:\\Users\\rbadr\\AppData\\Local\\Temp\\ipykernel_2288\\788378482.py:8: UserWarning: Boolean Series key will be reindexed to match DataFrame index.\n",
      "  yes=df[df['Job Offer']=='Yes'][df[attribute]==value].value_counts().sum()\n",
      "C:\\Users\\rbadr\\AppData\\Local\\Temp\\ipykernel_2288\\788378482.py:9: UserWarning: Boolean Series key will be reindexed to match DataFrame index.\n",
      "  no=df[df['Job Offer']=='No'][df[attribute]==value].value_counts().sum()\n",
      "C:\\Users\\rbadr\\AppData\\Local\\Temp\\ipykernel_2288\\788378482.py:8: UserWarning: Boolean Series key will be reindexed to match DataFrame index.\n",
      "  yes=df[df['Job Offer']=='Yes'][df[attribute]==value].value_counts().sum()\n",
      "C:\\Users\\rbadr\\AppData\\Local\\Temp\\ipykernel_2288\\788378482.py:9: UserWarning: Boolean Series key will be reindexed to match DataFrame index.\n",
      "  no=df[df['Job Offer']=='No'][df[attribute]==value].value_counts().sum()\n",
      "C:\\Users\\rbadr\\AppData\\Local\\Temp\\ipykernel_2288\\788378482.py:8: UserWarning: Boolean Series key will be reindexed to match DataFrame index.\n",
      "  yes=df[df['Job Offer']=='Yes'][df[attribute]==value].value_counts().sum()\n",
      "C:\\Users\\rbadr\\AppData\\Local\\Temp\\ipykernel_2288\\788378482.py:9: UserWarning: Boolean Series key will be reindexed to match DataFrame index.\n",
      "  no=df[df['Job Offer']=='No'][df[attribute]==value].value_counts().sum()\n",
      "C:\\Users\\rbadr\\AppData\\Local\\Temp\\ipykernel_2288\\788378482.py:8: UserWarning: Boolean Series key will be reindexed to match DataFrame index.\n",
      "  yes=df[df['Job Offer']=='Yes'][df[attribute]==value].value_counts().sum()\n",
      "C:\\Users\\rbadr\\AppData\\Local\\Temp\\ipykernel_2288\\788378482.py:9: UserWarning: Boolean Series key will be reindexed to match DataFrame index.\n",
      "  no=df[df['Job Offer']=='No'][df[attribute]==value].value_counts().sum()\n",
      "C:\\Users\\rbadr\\AppData\\Local\\Temp\\ipykernel_2288\\788378482.py:8: UserWarning: Boolean Series key will be reindexed to match DataFrame index.\n",
      "  yes=df[df['Job Offer']=='Yes'][df[attribute]==value].value_counts().sum()\n",
      "C:\\Users\\rbadr\\AppData\\Local\\Temp\\ipykernel_2288\\788378482.py:9: UserWarning: Boolean Series key will be reindexed to match DataFrame index.\n",
      "  no=df[df['Job Offer']=='No'][df[attribute]==value].value_counts().sum()\n",
      "C:\\Users\\rbadr\\AppData\\Local\\Temp\\ipykernel_2288\\788378482.py:8: UserWarning: Boolean Series key will be reindexed to match DataFrame index.\n",
      "  yes=df[df['Job Offer']=='Yes'][df[attribute]==value].value_counts().sum()\n",
      "C:\\Users\\rbadr\\AppData\\Local\\Temp\\ipykernel_2288\\788378482.py:9: UserWarning: Boolean Series key will be reindexed to match DataFrame index.\n",
      "  no=df[df['Job Offer']=='No'][df[attribute]==value].value_counts().sum()\n",
      "C:\\Users\\rbadr\\AppData\\Local\\Temp\\ipykernel_2288\\788378482.py:8: UserWarning: Boolean Series key will be reindexed to match DataFrame index.\n",
      "  yes=df[df['Job Offer']=='Yes'][df[attribute]==value].value_counts().sum()\n",
      "C:\\Users\\rbadr\\AppData\\Local\\Temp\\ipykernel_2288\\788378482.py:9: UserWarning: Boolean Series key will be reindexed to match DataFrame index.\n",
      "  no=df[df['Job Offer']=='No'][df[attribute]==value].value_counts().sum()\n",
      "C:\\Users\\rbadr\\AppData\\Local\\Temp\\ipykernel_2288\\788378482.py:8: UserWarning: Boolean Series key will be reindexed to match DataFrame index.\n",
      "  yes=df[df['Job Offer']=='Yes'][df[attribute]==value].value_counts().sum()\n",
      "C:\\Users\\rbadr\\AppData\\Local\\Temp\\ipykernel_2288\\788378482.py:9: UserWarning: Boolean Series key will be reindexed to match DataFrame index.\n",
      "  no=df[df['Job Offer']=='No'][df[attribute]==value].value_counts().sum()\n",
      "C:\\Users\\rbadr\\AppData\\Local\\Temp\\ipykernel_2288\\788378482.py:8: UserWarning: Boolean Series key will be reindexed to match DataFrame index.\n",
      "  yes=df[df['Job Offer']=='Yes'][df[attribute]==value].value_counts().sum()\n",
      "C:\\Users\\rbadr\\AppData\\Local\\Temp\\ipykernel_2288\\788378482.py:9: UserWarning: Boolean Series key will be reindexed to match DataFrame index.\n",
      "  no=df[df['Job Offer']=='No'][df[attribute]==value].value_counts().sum()\n",
      "C:\\Users\\rbadr\\AppData\\Local\\Temp\\ipykernel_2288\\788378482.py:8: UserWarning: Boolean Series key will be reindexed to match DataFrame index.\n",
      "  yes=df[df['Job Offer']=='Yes'][df[attribute]==value].value_counts().sum()\n",
      "C:\\Users\\rbadr\\AppData\\Local\\Temp\\ipykernel_2288\\788378482.py:9: UserWarning: Boolean Series key will be reindexed to match DataFrame index.\n",
      "  no=df[df['Job Offer']=='No'][df[attribute]==value].value_counts().sum()\n",
      "C:\\Users\\rbadr\\AppData\\Local\\Temp\\ipykernel_2288\\788378482.py:8: UserWarning: Boolean Series key will be reindexed to match DataFrame index.\n",
      "  yes=df[df['Job Offer']=='Yes'][df[attribute]==value].value_counts().sum()\n",
      "C:\\Users\\rbadr\\AppData\\Local\\Temp\\ipykernel_2288\\788378482.py:9: UserWarning: Boolean Series key will be reindexed to match DataFrame index.\n",
      "  no=df[df['Job Offer']=='No'][df[attribute]==value].value_counts().sum()\n",
      "C:\\Users\\rbadr\\AppData\\Local\\Temp\\ipykernel_2288\\788378482.py:8: UserWarning: Boolean Series key will be reindexed to match DataFrame index.\n",
      "  yes=df[df['Job Offer']=='Yes'][df[attribute]==value].value_counts().sum()\n",
      "C:\\Users\\rbadr\\AppData\\Local\\Temp\\ipykernel_2288\\788378482.py:9: UserWarning: Boolean Series key will be reindexed to match DataFrame index.\n",
      "  no=df[df['Job Offer']=='No'][df[attribute]==value].value_counts().sum()\n",
      "C:\\Users\\rbadr\\AppData\\Local\\Temp\\ipykernel_2288\\788378482.py:8: UserWarning: Boolean Series key will be reindexed to match DataFrame index.\n",
      "  yes=df[df['Job Offer']=='Yes'][df[attribute]==value].value_counts().sum()\n"
     ]
    },
    {
     "name": "stdout",
     "output_type": "stream",
     "text": [
      "tree {'CGPA': {}}\n",
      "subtable   CGPA Interactiveness Practical Knowledge Communication Skills Job Offer\n",
      "0  >=9             Yes           Very Good                 Good       Yes\n",
      "1  >=9              No             Average                 Poor        No\n",
      "2  >=9             Yes                Good             Moderate       Yes\n",
      "3  >=9              No           Very Good                 Good       Yes\n",
      "clvalue ['No' 'Yes']\n",
      "counts [1 3]\n",
      "tree {'Practical Knowledge': {}}\n",
      "subtable   CGPA Interactiveness Practical Knowledge Communication Skills Job Offer\n",
      "0  >=9             Yes           Very Good                 Good       Yes\n",
      "1  >=9              No           Very Good                 Good       Yes\n",
      "clvalue ['Yes']\n",
      "counts [2]\n",
      "tree {'Practical Knowledge': {'Very Good': 'Yes'}}\n",
      "subtable   CGPA Interactiveness Practical Knowledge Communication Skills Job Offer\n",
      "0  >=9              No             Average                 Poor        No\n",
      "clvalue ['No']\n",
      "counts [1]\n",
      "tree {'Practical Knowledge': {'Very Good': 'Yes', 'Average': 'No'}}\n",
      "subtable   CGPA Interactiveness Practical Knowledge Communication Skills Job Offer\n",
      "0  >=9             Yes                Good             Moderate       Yes\n",
      "clvalue ['Yes']\n",
      "counts [1]\n",
      "tree {'Practical Knowledge': {'Very Good': 'Yes', 'Average': 'No', 'Good': 'Yes'}}\n",
      "tree {'CGPA': {'>=9': {'Practical Knowledge': {'Very Good': 'Yes', 'Average': 'No', 'Good': 'Yes'}}}}\n",
      "subtable   CGPA Interactiveness Practical Knowledge Communication Skills Job Offer\n",
      "0  >=8              No                Good             Moderate       Yes\n",
      "1  >=8             Yes                Good             Moderate       Yes\n",
      "2  >=8             Yes                Good                 Good       Yes\n",
      "3  >=8             Yes             Average                 Good       Yes\n",
      "clvalue ['Yes']\n",
      "counts [4]\n",
      "tree {'CGPA': {'>=9': {'Practical Knowledge': {'Very Good': 'Yes', 'Average': 'No', 'Good': 'Yes'}}, '>=8': 'Yes'}}\n",
      "subtable   CGPA Interactiveness Practical Knowledge Communication Skills Job Offer\n",
      "0   <8              No             Average                 Good        No\n",
      "1   <8             Yes                Good                 Poor        No\n",
      "clvalue ['No']\n",
      "counts [2]\n",
      "tree {'CGPA': {'>=9': {'Practical Knowledge': {'Very Good': 'Yes', 'Average': 'No', 'Good': 'Yes'}}, '>=8': 'Yes', '<8': 'No'}}\n",
      "inside predict\n",
      "tree.keys dict_keys(['CGPA'])\n",
      "value <8\n",
      "tree No\n",
      "prediction No\n"
     ]
    },
    {
     "name": "stderr",
     "output_type": "stream",
     "text": [
      "C:\\Users\\rbadr\\AppData\\Local\\Temp\\ipykernel_2288\\788378482.py:9: UserWarning: Boolean Series key will be reindexed to match DataFrame index.\n",
      "  no=df[df['Job Offer']=='No'][df[attribute]==value].value_counts().sum()\n"
     ]
    },
    {
     "data": {
      "text/plain": [
       "'No'"
      ]
     },
     "execution_count": 41,
     "metadata": {},
     "output_type": "execute_result"
    }
   ],
   "source": [
    "predict({'CGPA':'<8','Interactiveness':'No','Practical Knowledge':'Good','Communication Skills':'POOR'},buildtree(df))"
   ]
  }
 ],
 "metadata": {
  "kernelspec": {
   "display_name": "Python 3",
   "language": "python",
   "name": "python3"
  },
  "language_info": {
   "codemirror_mode": {
    "name": "ipython",
    "version": 3
   },
   "file_extension": ".py",
   "mimetype": "text/x-python",
   "name": "python",
   "nbconvert_exporter": "python",
   "pygments_lexer": "ipython3",
   "version": "3.10.1"
  },
  "orig_nbformat": 4,
  "vscode": {
   "interpreter": {
    "hash": "bc5dc6df8a1435460f2b5268b631217fa959ba9e5d5bbcb27f695e36ca128e75"
   }
  }
 },
 "nbformat": 4,
 "nbformat_minor": 2
}
